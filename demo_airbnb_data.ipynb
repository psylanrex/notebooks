{
  "nbformat": 4,
  "nbformat_minor": 0,
  "metadata": {
    "kernelspec": {
      "display_name": "Python 3",
      "language": "python",
      "name": "python3"
    },
    "language_info": {
      "codemirror_mode": {
        "name": "ipython",
        "version": 3
      },
      "file_extension": ".py",
      "mimetype": "text/x-python",
      "name": "python",
      "nbconvert_exporter": "python",
      "pygments_lexer": "ipython3",
      "version": "3.6.6"
    },
    "colab": {
      "name": "demo-airbnb-data.ipynb",
      "provenance": [],
      "toc_visible": true,
      "include_colab_link": true
    }
  },
  "cells": [
    {
      "cell_type": "markdown",
      "metadata": {
        "id": "view-in-github",
        "colab_type": "text"
      },
      "source": [
        "<a href=\"https://colab.research.google.com/github/psylanrex/notebooks/blob/master/demo_airbnb_data.ipynb\" target=\"_parent\"><img src=\"https://colab.research.google.com/assets/colab-badge.svg\" alt=\"Open In Colab\"/></a>"
      ]
    },
    {
      "cell_type": "code",
      "metadata": {
        "_cell_guid": "b1076dfc-b9ad-4769-8c92-a6c4dae69d19",
        "_uuid": "8f2839f25d086af736a60e9eeb907d3b93b6e0e5",
        "id": "1FdCjD967Tdc",
        "colab_type": "code",
        "colab": {
          "base_uri": "https://localhost:8080/",
          "height": 34
        },
        "outputId": "05340322-aff9-41b3-8505-0864f8720069"
      },
      "source": [
        "import numpy as np # linear algebra\n",
        "import pandas as pd # data processing, CSV file I/O (e.g. pd.read_csv)\n",
        "\n",
        "from google.colab import drive\n",
        "\n",
        "drive.mount('/content/gdrive')\n",
        "root_path = 'My Drive/Colab Notebooks/demo-airbnb/'"
      ],
      "execution_count": 94,
      "outputs": [
        {
          "output_type": "stream",
          "text": [
            "Drive already mounted at /content/gdrive; to attempt to forcibly remount, call drive.mount(\"/content/gdrive\", force_remount=True).\n"
          ],
          "name": "stdout"
        }
      ]
    },
    {
      "cell_type": "code",
      "metadata": {
        "id": "LRozd8Iv7Tdj",
        "colab_type": "code",
        "colab": {
          "base_uri": "https://localhost:8080/",
          "height": 411
        },
        "outputId": "4bbae999-ba9a-4803-eb44-ed9bbebd09db"
      },
      "source": [
        "df = pd.read_csv(\"/content/AB_NYC_2019.csv\")\n",
        "df.head()"
      ],
      "execution_count": 95,
      "outputs": [
        {
          "output_type": "execute_result",
          "data": {
            "text/html": [
              "<div>\n",
              "<style scoped>\n",
              "    .dataframe tbody tr th:only-of-type {\n",
              "        vertical-align: middle;\n",
              "    }\n",
              "\n",
              "    .dataframe tbody tr th {\n",
              "        vertical-align: top;\n",
              "    }\n",
              "\n",
              "    .dataframe thead th {\n",
              "        text-align: right;\n",
              "    }\n",
              "</style>\n",
              "<table border=\"1\" class=\"dataframe\">\n",
              "  <thead>\n",
              "    <tr style=\"text-align: right;\">\n",
              "      <th></th>\n",
              "      <th>id</th>\n",
              "      <th>name</th>\n",
              "      <th>host_id</th>\n",
              "      <th>host_name</th>\n",
              "      <th>neighbourhood_group</th>\n",
              "      <th>neighbourhood</th>\n",
              "      <th>latitude</th>\n",
              "      <th>longitude</th>\n",
              "      <th>room_type</th>\n",
              "      <th>price</th>\n",
              "      <th>minimum_nights</th>\n",
              "      <th>number_of_reviews</th>\n",
              "      <th>last_review</th>\n",
              "      <th>reviews_per_month</th>\n",
              "      <th>calculated_host_listings_count</th>\n",
              "      <th>availability_365</th>\n",
              "    </tr>\n",
              "  </thead>\n",
              "  <tbody>\n",
              "    <tr>\n",
              "      <th>0</th>\n",
              "      <td>2539</td>\n",
              "      <td>Clean &amp; quiet apt home by the park</td>\n",
              "      <td>2787</td>\n",
              "      <td>John</td>\n",
              "      <td>Brooklyn</td>\n",
              "      <td>Kensington</td>\n",
              "      <td>40.64749</td>\n",
              "      <td>-73.97237</td>\n",
              "      <td>Private room</td>\n",
              "      <td>149</td>\n",
              "      <td>1</td>\n",
              "      <td>9</td>\n",
              "      <td>2018-10-19</td>\n",
              "      <td>0.21</td>\n",
              "      <td>6</td>\n",
              "      <td>365</td>\n",
              "    </tr>\n",
              "    <tr>\n",
              "      <th>1</th>\n",
              "      <td>2595</td>\n",
              "      <td>Skylit Midtown Castle</td>\n",
              "      <td>2845</td>\n",
              "      <td>Jennifer</td>\n",
              "      <td>Manhattan</td>\n",
              "      <td>Midtown</td>\n",
              "      <td>40.75362</td>\n",
              "      <td>-73.98377</td>\n",
              "      <td>Entire home/apt</td>\n",
              "      <td>225</td>\n",
              "      <td>1</td>\n",
              "      <td>45</td>\n",
              "      <td>2019-05-21</td>\n",
              "      <td>0.38</td>\n",
              "      <td>2</td>\n",
              "      <td>355</td>\n",
              "    </tr>\n",
              "    <tr>\n",
              "      <th>2</th>\n",
              "      <td>3647</td>\n",
              "      <td>THE VILLAGE OF HARLEM....NEW YORK !</td>\n",
              "      <td>4632</td>\n",
              "      <td>Elisabeth</td>\n",
              "      <td>Manhattan</td>\n",
              "      <td>Harlem</td>\n",
              "      <td>40.80902</td>\n",
              "      <td>-73.94190</td>\n",
              "      <td>Private room</td>\n",
              "      <td>150</td>\n",
              "      <td>3</td>\n",
              "      <td>0</td>\n",
              "      <td>NaN</td>\n",
              "      <td>NaN</td>\n",
              "      <td>1</td>\n",
              "      <td>365</td>\n",
              "    </tr>\n",
              "    <tr>\n",
              "      <th>3</th>\n",
              "      <td>3831</td>\n",
              "      <td>Cozy Entire Floor of Brownstone</td>\n",
              "      <td>4869</td>\n",
              "      <td>LisaRoxanne</td>\n",
              "      <td>Brooklyn</td>\n",
              "      <td>Clinton Hill</td>\n",
              "      <td>40.68514</td>\n",
              "      <td>-73.95976</td>\n",
              "      <td>Entire home/apt</td>\n",
              "      <td>89</td>\n",
              "      <td>1</td>\n",
              "      <td>270</td>\n",
              "      <td>2019-07-05</td>\n",
              "      <td>4.64</td>\n",
              "      <td>1</td>\n",
              "      <td>194</td>\n",
              "    </tr>\n",
              "    <tr>\n",
              "      <th>4</th>\n",
              "      <td>5022</td>\n",
              "      <td>Entire Apt: Spacious Studio/Loft by central park</td>\n",
              "      <td>7192</td>\n",
              "      <td>Laura</td>\n",
              "      <td>Manhattan</td>\n",
              "      <td>East Harlem</td>\n",
              "      <td>40.79851</td>\n",
              "      <td>-73.94399</td>\n",
              "      <td>Entire home/apt</td>\n",
              "      <td>80</td>\n",
              "      <td>10</td>\n",
              "      <td>9</td>\n",
              "      <td>2018-11-19</td>\n",
              "      <td>0.10</td>\n",
              "      <td>1</td>\n",
              "      <td>0</td>\n",
              "    </tr>\n",
              "  </tbody>\n",
              "</table>\n",
              "</div>"
            ],
            "text/plain": [
              "     id  ... availability_365\n",
              "0  2539  ...              365\n",
              "1  2595  ...              355\n",
              "2  3647  ...              365\n",
              "3  3831  ...              194\n",
              "4  5022  ...                0\n",
              "\n",
              "[5 rows x 16 columns]"
            ]
          },
          "metadata": {
            "tags": []
          },
          "execution_count": 95
        }
      ]
    },
    {
      "cell_type": "code",
      "metadata": {
        "id": "NhpkUlUx7Tdm",
        "colab_type": "code",
        "colab": {
          "base_uri": "https://localhost:8080/",
          "height": 34
        },
        "outputId": "139eadb1-005e-4403-9cec-c3f452ee404a"
      },
      "source": [
        "df.shape"
      ],
      "execution_count": 96,
      "outputs": [
        {
          "output_type": "execute_result",
          "data": {
            "text/plain": [
              "(48895, 16)"
            ]
          },
          "metadata": {
            "tags": []
          },
          "execution_count": 96
        }
      ]
    },
    {
      "cell_type": "code",
      "metadata": {
        "id": "DW0OaCp57Tdp",
        "colab_type": "code",
        "colab": {}
      },
      "source": [
        "import matplotlib.pyplot as plt\n",
        "import plotly as plotly\n",
        "%matplotlib inline\n",
        "import folium\n",
        "from folium import plugins\n",
        "from folium.plugins import MarkerCluster"
      ],
      "execution_count": 0,
      "outputs": []
    },
    {
      "cell_type": "markdown",
      "metadata": {
        "id": "OhQNC7iR7Tdr",
        "colab_type": "text"
      },
      "source": [
        "## Data exploration"
      ]
    },
    {
      "cell_type": "code",
      "metadata": {
        "id": "_zIOzP6q7Tds",
        "colab_type": "code",
        "colab": {
          "base_uri": "https://localhost:8080/",
          "height": 306
        },
        "outputId": "5c27a6eb-06c9-40cf-a896-0e75726f06bd"
      },
      "source": [
        "df.dtypes"
      ],
      "execution_count": 98,
      "outputs": [
        {
          "output_type": "execute_result",
          "data": {
            "text/plain": [
              "id                                  int64\n",
              "name                               object\n",
              "host_id                             int64\n",
              "host_name                          object\n",
              "neighbourhood_group                object\n",
              "neighbourhood                      object\n",
              "latitude                          float64\n",
              "longitude                         float64\n",
              "room_type                          object\n",
              "price                               int64\n",
              "minimum_nights                      int64\n",
              "number_of_reviews                   int64\n",
              "last_review                        object\n",
              "reviews_per_month                 float64\n",
              "calculated_host_listings_count      int64\n",
              "availability_365                    int64\n",
              "dtype: object"
            ]
          },
          "metadata": {
            "tags": []
          },
          "execution_count": 98
        }
      ]
    },
    {
      "cell_type": "code",
      "metadata": {
        "id": "1kbEJy007Tdu",
        "colab_type": "code",
        "colab": {
          "base_uri": "https://localhost:8080/",
          "height": 306
        },
        "outputId": "082a8d78-4f4d-4c26-97bf-3f33611549c6"
      },
      "source": [
        "null_count = df.isnull().sum().sort_values(ascending=False)\n",
        "null_count"
      ],
      "execution_count": 99,
      "outputs": [
        {
          "output_type": "execute_result",
          "data": {
            "text/plain": [
              "reviews_per_month                 10052\n",
              "last_review                       10052\n",
              "host_name                            21\n",
              "name                                 16\n",
              "availability_365                      0\n",
              "calculated_host_listings_count        0\n",
              "number_of_reviews                     0\n",
              "minimum_nights                        0\n",
              "price                                 0\n",
              "room_type                             0\n",
              "longitude                             0\n",
              "latitude                              0\n",
              "neighbourhood                         0\n",
              "neighbourhood_group                   0\n",
              "host_id                               0\n",
              "id                                    0\n",
              "dtype: int64"
            ]
          },
          "metadata": {
            "tags": []
          },
          "execution_count": 99
        }
      ]
    },
    {
      "cell_type": "markdown",
      "metadata": {
        "id": "cEr8PN0q7Tdw",
        "colab_type": "text"
      },
      "source": [
        "Fill null values in reviews_per_month"
      ]
    },
    {
      "cell_type": "code",
      "metadata": {
        "id": "LMhZsFoZ7Tdx",
        "colab_type": "code",
        "colab": {
          "base_uri": "https://localhost:8080/",
          "height": 34
        },
        "outputId": "2fd68718-5d55-4efc-ebd7-456bfbc935fa"
      },
      "source": [
        "df[df['number_of_reviews'] == 0.0].shape\n",
        "# number_of_revies: 10052, equal to null values of reviews_per_month, so it's reasonable to fill reviews_per_month 0 wherever it is null"
      ],
      "execution_count": 100,
      "outputs": [
        {
          "output_type": "execute_result",
          "data": {
            "text/plain": [
              "(10052, 16)"
            ]
          },
          "metadata": {
            "tags": []
          },
          "execution_count": 100
        }
      ]
    },
    {
      "cell_type": "code",
      "metadata": {
        "id": "78XoflnT7Tdz",
        "colab_type": "code",
        "colab": {}
      },
      "source": [
        "df['reviews_per_month'] = df['reviews_per_month'].fillna(0)"
      ],
      "execution_count": 0,
      "outputs": []
    },
    {
      "cell_type": "code",
      "metadata": {
        "id": "DbN9Hta97Td1",
        "colab_type": "code",
        "colab": {}
      },
      "source": [
        "# convert last_review to datetime\n",
        "df['last_review'] = pd.to_datetime(df['last_review'], infer_datetime_format=True)\n",
        "# find earliest date for last_reviews column\n",
        "earliest = min(df['last_review'])\n",
        "df['last_review'] = df['last_review'].fillna(earliest)\n",
        "# convert last_review value from datetime to ordinal\n",
        "df['last_review'] = df['last_review'].apply(lambda x: x.toordinal() - earliest.toordinal())"
      ],
      "execution_count": 0,
      "outputs": []
    },
    {
      "cell_type": "code",
      "metadata": {
        "id": "Alr-WxU17Td3",
        "colab_type": "code",
        "colab": {}
      },
      "source": [
        "# there are missing values on host and host_name columns, these are not necessary info, so they will be dropped\n",
        "df.drop(['name', 'host_name'], axis=1, inplace=True)"
      ],
      "execution_count": 0,
      "outputs": []
    },
    {
      "cell_type": "code",
      "metadata": {
        "id": "gfzomUTe7Td5",
        "colab_type": "code",
        "colab": {
          "base_uri": "https://localhost:8080/",
          "height": 309
        },
        "outputId": "0312005c-c16a-4d3c-aea3-6c68d366a9f7"
      },
      "source": [
        "df.head()"
      ],
      "execution_count": 104,
      "outputs": [
        {
          "output_type": "execute_result",
          "data": {
            "text/html": [
              "<div>\n",
              "<style scoped>\n",
              "    .dataframe tbody tr th:only-of-type {\n",
              "        vertical-align: middle;\n",
              "    }\n",
              "\n",
              "    .dataframe tbody tr th {\n",
              "        vertical-align: top;\n",
              "    }\n",
              "\n",
              "    .dataframe thead th {\n",
              "        text-align: right;\n",
              "    }\n",
              "</style>\n",
              "<table border=\"1\" class=\"dataframe\">\n",
              "  <thead>\n",
              "    <tr style=\"text-align: right;\">\n",
              "      <th></th>\n",
              "      <th>id</th>\n",
              "      <th>host_id</th>\n",
              "      <th>neighbourhood_group</th>\n",
              "      <th>neighbourhood</th>\n",
              "      <th>latitude</th>\n",
              "      <th>longitude</th>\n",
              "      <th>room_type</th>\n",
              "      <th>price</th>\n",
              "      <th>minimum_nights</th>\n",
              "      <th>number_of_reviews</th>\n",
              "      <th>last_review</th>\n",
              "      <th>reviews_per_month</th>\n",
              "      <th>calculated_host_listings_count</th>\n",
              "      <th>availability_365</th>\n",
              "    </tr>\n",
              "  </thead>\n",
              "  <tbody>\n",
              "    <tr>\n",
              "      <th>0</th>\n",
              "      <td>2539</td>\n",
              "      <td>2787</td>\n",
              "      <td>Brooklyn</td>\n",
              "      <td>Kensington</td>\n",
              "      <td>40.64749</td>\n",
              "      <td>-73.97237</td>\n",
              "      <td>Private room</td>\n",
              "      <td>149</td>\n",
              "      <td>1</td>\n",
              "      <td>9</td>\n",
              "      <td>2762</td>\n",
              "      <td>0.21</td>\n",
              "      <td>6</td>\n",
              "      <td>365</td>\n",
              "    </tr>\n",
              "    <tr>\n",
              "      <th>1</th>\n",
              "      <td>2595</td>\n",
              "      <td>2845</td>\n",
              "      <td>Manhattan</td>\n",
              "      <td>Midtown</td>\n",
              "      <td>40.75362</td>\n",
              "      <td>-73.98377</td>\n",
              "      <td>Entire home/apt</td>\n",
              "      <td>225</td>\n",
              "      <td>1</td>\n",
              "      <td>45</td>\n",
              "      <td>2976</td>\n",
              "      <td>0.38</td>\n",
              "      <td>2</td>\n",
              "      <td>355</td>\n",
              "    </tr>\n",
              "    <tr>\n",
              "      <th>2</th>\n",
              "      <td>3647</td>\n",
              "      <td>4632</td>\n",
              "      <td>Manhattan</td>\n",
              "      <td>Harlem</td>\n",
              "      <td>40.80902</td>\n",
              "      <td>-73.94190</td>\n",
              "      <td>Private room</td>\n",
              "      <td>150</td>\n",
              "      <td>3</td>\n",
              "      <td>0</td>\n",
              "      <td>0</td>\n",
              "      <td>0.00</td>\n",
              "      <td>1</td>\n",
              "      <td>365</td>\n",
              "    </tr>\n",
              "    <tr>\n",
              "      <th>3</th>\n",
              "      <td>3831</td>\n",
              "      <td>4869</td>\n",
              "      <td>Brooklyn</td>\n",
              "      <td>Clinton Hill</td>\n",
              "      <td>40.68514</td>\n",
              "      <td>-73.95976</td>\n",
              "      <td>Entire home/apt</td>\n",
              "      <td>89</td>\n",
              "      <td>1</td>\n",
              "      <td>270</td>\n",
              "      <td>3021</td>\n",
              "      <td>4.64</td>\n",
              "      <td>1</td>\n",
              "      <td>194</td>\n",
              "    </tr>\n",
              "    <tr>\n",
              "      <th>4</th>\n",
              "      <td>5022</td>\n",
              "      <td>7192</td>\n",
              "      <td>Manhattan</td>\n",
              "      <td>East Harlem</td>\n",
              "      <td>40.79851</td>\n",
              "      <td>-73.94399</td>\n",
              "      <td>Entire home/apt</td>\n",
              "      <td>80</td>\n",
              "      <td>10</td>\n",
              "      <td>9</td>\n",
              "      <td>2793</td>\n",
              "      <td>0.10</td>\n",
              "      <td>1</td>\n",
              "      <td>0</td>\n",
              "    </tr>\n",
              "  </tbody>\n",
              "</table>\n",
              "</div>"
            ],
            "text/plain": [
              "     id  host_id  ... calculated_host_listings_count availability_365\n",
              "0  2539     2787  ...                              6              365\n",
              "1  2595     2845  ...                              2              355\n",
              "2  3647     4632  ...                              1              365\n",
              "3  3831     4869  ...                              1              194\n",
              "4  5022     7192  ...                              1                0\n",
              "\n",
              "[5 rows x 14 columns]"
            ]
          },
          "metadata": {
            "tags": []
          },
          "execution_count": 104
        }
      ]
    },
    {
      "cell_type": "code",
      "metadata": {
        "id": "r_2EkKiL7Td8",
        "colab_type": "code",
        "colab": {}
      },
      "source": [
        "# Convert price to float\n",
        "df['price'] = df['price'].astype(float)"
      ],
      "execution_count": 0,
      "outputs": []
    },
    {
      "cell_type": "code",
      "metadata": {
        "id": "olNBQHKP7Td-",
        "colab_type": "code",
        "colab": {
          "base_uri": "https://localhost:8080/",
          "height": 235
        },
        "outputId": "bb64ec8b-f13e-45c9-a2b1-58298e64f8ef"
      },
      "source": [
        "neighborhood_grouped = df.groupby(['neighbourhood_group']).mean()\n",
        "neighborhood_grouped.drop(['id', 'host_id', 'latitude', 'longitude'], axis=1, inplace=True)\n",
        "neighborhood_grouped"
      ],
      "execution_count": 106,
      "outputs": [
        {
          "output_type": "execute_result",
          "data": {
            "text/html": [
              "<div>\n",
              "<style scoped>\n",
              "    .dataframe tbody tr th:only-of-type {\n",
              "        vertical-align: middle;\n",
              "    }\n",
              "\n",
              "    .dataframe tbody tr th {\n",
              "        vertical-align: top;\n",
              "    }\n",
              "\n",
              "    .dataframe thead th {\n",
              "        text-align: right;\n",
              "    }\n",
              "</style>\n",
              "<table border=\"1\" class=\"dataframe\">\n",
              "  <thead>\n",
              "    <tr style=\"text-align: right;\">\n",
              "      <th></th>\n",
              "      <th>price</th>\n",
              "      <th>minimum_nights</th>\n",
              "      <th>number_of_reviews</th>\n",
              "      <th>last_review</th>\n",
              "      <th>reviews_per_month</th>\n",
              "      <th>calculated_host_listings_count</th>\n",
              "      <th>availability_365</th>\n",
              "    </tr>\n",
              "    <tr>\n",
              "      <th>neighbourhood_group</th>\n",
              "      <th></th>\n",
              "      <th></th>\n",
              "      <th></th>\n",
              "      <th></th>\n",
              "      <th></th>\n",
              "      <th></th>\n",
              "      <th></th>\n",
              "    </tr>\n",
              "  </thead>\n",
              "  <tbody>\n",
              "    <tr>\n",
              "      <th>Bronx</th>\n",
              "      <td>87.496792</td>\n",
              "      <td>4.560953</td>\n",
              "      <td>26.004583</td>\n",
              "      <td>2322.527039</td>\n",
              "      <td>1.475655</td>\n",
              "      <td>2.233731</td>\n",
              "      <td>165.758937</td>\n",
              "    </tr>\n",
              "    <tr>\n",
              "      <th>Brooklyn</th>\n",
              "      <td>124.383207</td>\n",
              "      <td>6.056556</td>\n",
              "      <td>24.202845</td>\n",
              "      <td>2240.543275</td>\n",
              "      <td>1.049790</td>\n",
              "      <td>2.284371</td>\n",
              "      <td>100.232292</td>\n",
              "    </tr>\n",
              "    <tr>\n",
              "      <th>Manhattan</th>\n",
              "      <td>196.875814</td>\n",
              "      <td>8.579151</td>\n",
              "      <td>20.985596</td>\n",
              "      <td>2087.042611</td>\n",
              "      <td>0.976782</td>\n",
              "      <td>12.791330</td>\n",
              "      <td>111.979410</td>\n",
              "    </tr>\n",
              "    <tr>\n",
              "      <th>Queens</th>\n",
              "      <td>99.517649</td>\n",
              "      <td>5.181433</td>\n",
              "      <td>27.700318</td>\n",
              "      <td>2294.371514</td>\n",
              "      <td>1.567076</td>\n",
              "      <td>4.060184</td>\n",
              "      <td>144.451818</td>\n",
              "    </tr>\n",
              "    <tr>\n",
              "      <th>Staten Island</th>\n",
              "      <td>114.812332</td>\n",
              "      <td>4.831099</td>\n",
              "      <td>30.941019</td>\n",
              "      <td>2465.201072</td>\n",
              "      <td>1.576381</td>\n",
              "      <td>2.319035</td>\n",
              "      <td>199.678284</td>\n",
              "    </tr>\n",
              "  </tbody>\n",
              "</table>\n",
              "</div>"
            ],
            "text/plain": [
              "                          price  ...  availability_365\n",
              "neighbourhood_group              ...                  \n",
              "Bronx                 87.496792  ...        165.758937\n",
              "Brooklyn             124.383207  ...        100.232292\n",
              "Manhattan            196.875814  ...        111.979410\n",
              "Queens                99.517649  ...        144.451818\n",
              "Staten Island        114.812332  ...        199.678284\n",
              "\n",
              "[5 rows x 7 columns]"
            ]
          },
          "metadata": {
            "tags": []
          },
          "execution_count": 106
        }
      ]
    },
    {
      "cell_type": "code",
      "metadata": {
        "id": "mJF1JFhR7TeA",
        "colab_type": "code",
        "colab": {
          "base_uri": "https://localhost:8080/",
          "height": 1000
        },
        "outputId": "d0c71623-fcfc-48b8-87de-f2a79d712f98"
      },
      "source": [
        "ax1 = neighborhood_grouped[['price']].plot(kind='bar', figsize=(7, 5), legend=True, fontsize=12, title='Compare prices in different neighborhoods')\n",
        "ax1.set_xlabel('')\n",
        "ax1.set_ylabel('Price')\n",
        "ax2 = neighborhood_grouped[['availability_365']].plot(kind='bar', figsize=(7, 5), legend=True, fontsize=12, title='Compare availability in different neighborhoods')\n",
        "ax2.set_xlabel('')\n",
        "ax2.set_ylabel('Availability')\n",
        "ax3 = neighborhood_grouped[['minimum_nights']].plot(kind='bar', figsize=(7, 5), legend=True, fontsize=12, title='Compare minimum nights in different neighborhoods')\n",
        "ax3.set_xlabel('')\n",
        "ax3.set_ylabel('Minimum nights')\n",
        "plt.show()"
      ],
      "execution_count": 107,
      "outputs": [
        {
          "output_type": "display_data",
          "data": {
            "image/png": "[encoded data removed]",
            "text/plain": [
              "<Figure size 504x360 with 1 Axes>"
            ]
          },
          "metadata": {
            "tags": []
          }
        },
        {
          "output_type": "display_data",
          "data": {
            "image/png": "[encoded data removed]",
            "text/plain": [
              "<Figure size 504x360 with 1 Axes>"
            ]
          },
          "metadata": {
            "tags": []
          }
        },
        {
          "output_type": "display_data",
          "data": {
            "image/png": "[encoded data removed]",
            "text/plain": [
              "<Figure size 504x360 with 1 Axes>"
            ]
          },
          "metadata": {
            "tags": []
          }
        }
      ]
    },
    {
      "cell_type": "code",
      "metadata": {
        "id": "QO4BeR3L7TeC",
        "colab_type": "code",
        "colab": {}
      },
      "source": [
        "import seaborn as sns"
      ],
      "execution_count": 0,
      "outputs": []
    },
    {
      "cell_type": "code",
      "metadata": {
        "id": "YSkVOdn97TeF",
        "colab_type": "code",
        "colab": {
          "base_uri": "https://localhost:8080/",
          "height": 300
        },
        "outputId": "5befd744-0c9f-4e0b-dfbf-8fbbc82ba0ac"
      },
      "source": [
        "plt.figure(figsize=[5,4])\n",
        "# plt.subplot(211)\n",
        "sns.countplot(x=\"room_type\", data=df)"
      ],
      "execution_count": 109,
      "outputs": [
        {
          "output_type": "execute_result",
          "data": {
            "text/plain": [
              "<matplotlib.axes._subplots.AxesSubplot at 0x7fd3a3fb18d0>"
            ]
          },
          "metadata": {
            "tags": []
          },
          "execution_count": 109
        },
        {
          "output_type": "display_data",
          "data": {
            "image/png": "[encoded data removed]",
            "text/plain": [
              "<Figure size 360x288 with 1 Axes>"
            ]
          },
          "metadata": {
            "tags": []
          }
        }
      ]
    },
    {
      "cell_type": "code",
      "metadata": {
        "id": "ELZTRQhU7TeH",
        "colab_type": "code",
        "colab": {}
      },
      "source": [
        "most_reviews_df = df.sort_values(by=['number_of_reviews'], ascending=False).head(1000)"
      ],
      "execution_count": 0,
      "outputs": []
    },
    {
      "cell_type": "code",
      "metadata": {
        "id": "41q0VYch7TeJ",
        "colab_type": "code",
        "colab": {
          "base_uri": "https://localhost:8080/",
          "height": 34
        },
        "outputId": "2a09cc0a-3484-40d8-b1cd-6f986eea46cb"
      },
      "source": [
        "print('Listing with most reviews')\n",
        "Long = -73.80\n",
        "Lat = 40.80\n",
        "# most_reviews_map = folium.Map([Lat,Long], zoom_start=10, width='50%', height='50%')\n",
        "# map1_rooms_map = plugins.MarkerCluster().add_to(most_reviews_map)\n",
        "# for lat, lon, label in zip(most_reviews_df.latitude, most_reviews_df.longitude, most_reviews_df.id):\n",
        "#     folium.Marker(location=[lat, lon], icon=folium.Icon(icon='home'), popup=label).add_to(map1_rooms_map)\n",
        "# most_reviews_map.add_child(map1_rooms_map)\n",
        "# most_reviews_map"
      ],
      "execution_count": 111,
      "outputs": [
        {
          "output_type": "stream",
          "text": [
            "Listing with most reviews\n"
          ],
          "name": "stdout"
        }
      ]
    },
    {
      "cell_type": "code",
      "metadata": {
        "id": "EU9mOxrH7TeL",
        "colab_type": "code",
        "colab": {}
      },
      "source": [
        "most_expensive_df = df.sort_values(by=['price'], ascending=False).head(1000)"
      ],
      "execution_count": 0,
      "outputs": []
    },
    {
      "cell_type": "code",
      "metadata": {
        "id": "O0lkxWCg7TeN",
        "colab_type": "code",
        "colab": {
          "base_uri": "https://localhost:8080/",
          "height": 34
        },
        "outputId": "a18b1e58-a839-455b-cffa-04cf59fdb361"
      },
      "source": [
        "print('Listing with highest price')\n",
        "# Long = -73.80\n",
        "# Lat = 40.80\n",
        "# most_expensive_map = folium.Map([Lat,Long], zoom_start=10, width='50%', height='50%')\n",
        "# map2_rooms_map = plugins.MarkerCluster().add_to(most_expensive_map)\n",
        "# for lat, lon, label in zip(most_expensive_df.latitude, most_expensive_df.longitude, most_expensive_df.id):\n",
        "#     folium.Marker(location=[lat, lon], icon=folium.Icon(icon='home'), popup=label).add_to(map2_rooms_map)\n",
        "# most_expensive_map.add_child(map2_rooms_map)\n",
        "# most_expensive_map"
      ],
      "execution_count": 113,
      "outputs": [
        {
          "output_type": "stream",
          "text": [
            "Listing with highest price\n"
          ],
          "name": "stdout"
        }
      ]
    },
    {
      "cell_type": "markdown",
      "metadata": {
        "id": "O3nGCcju7TeR",
        "colab_type": "text"
      },
      "source": [
        "### Train test split"
      ]
    },
    {
      "cell_type": "code",
      "metadata": {
        "id": "L1NR2qLx7TeS",
        "colab_type": "code",
        "colab": {
          "base_uri": "https://localhost:8080/",
          "height": 34
        },
        "outputId": "c7abede7-6b4b-45f2-9979-41b32928087a"
      },
      "source": [
        "num_features = df.select_dtypes(exclude=['object'])\n",
        "y = num_features.price\n",
        "num_features = num_features.drop(['price', 'id', 'host_id'], axis=1)\n",
        "num_features.shape\n",
        "# num_features"
      ],
      "execution_count": 114,
      "outputs": [
        {
          "output_type": "execute_result",
          "data": {
            "text/plain": [
              "(48895, 8)"
            ]
          },
          "metadata": {
            "tags": []
          },
          "execution_count": 114
        }
      ]
    },
    {
      "cell_type": "code",
      "metadata": {
        "id": "aNPCtRCs7TeW",
        "colab_type": "code",
        "colab": {}
      },
      "source": [
        "cat_features = df.select_dtypes(include=['object'])\n",
        "cat_features_dummies = pd.get_dummies(cat_features)"
      ],
      "execution_count": 0,
      "outputs": []
    },
    {
      "cell_type": "code",
      "metadata": {
        "id": "mtflnGV07TeY",
        "colab_type": "code",
        "colab": {}
      },
      "source": [
        "from sklearn.preprocessing import scale, StandardScaler, RobustScaler, OneHotEncoder\n",
        "from sklearn.pipeline import Pipeline\n",
        "from sklearn.compose import ColumnTransformer\n",
        "from sklearn.model_selection import train_test_split, cross_val_score, GridSearchCV, KFold, StratifiedKFold, RandomizedSearchCV\n",
        "from sklearn.linear_model import Ridge, RidgeCV, Lasso, LassoCV, LinearRegression, ElasticNet,  HuberRegressor\n",
        "from sklearn.metrics import mean_squared_error, r2_score\n",
        "from sklearn.gaussian_process import GaussianProcessRegressor\n",
        "from sklearn.ensemble import RandomForestRegressor, GradientBoostingRegressor\n",
        "from sklearn.svm import SVR\n",
        "from sklearn.kernel_ridge import KernelRidge\n",
        "from sklearn.utils import resample\n",
        "from xgboost import XGBRegressor"
      ],
      "execution_count": 0,
      "outputs": []
    },
    {
      "cell_type": "code",
      "metadata": {
        "id": "hrOzzV2-7Tea",
        "colab_type": "code",
        "colab": {}
      },
      "source": [
        "X_train, X_test, y_train, y_test = train_test_split(num_features, y, test_size=0.2, random_state=42)"
      ],
      "execution_count": 0,
      "outputs": []
    },
    {
      "cell_type": "code",
      "metadata": {
        "id": "ot-uIrvn7Tec",
        "colab_type": "code",
        "colab": {}
      },
      "source": [
        "n_folds = 5"
      ],
      "execution_count": 0,
      "outputs": []
    },
    {
      "cell_type": "code",
      "metadata": {
        "id": "SOilo5B77Tee",
        "colab_type": "code",
        "colab": {}
      },
      "source": [
        "def rmse_cv(model):\n",
        "    kf = KFold(n_folds, shuffle=True, random_state=91).get_n_splits(num_features)\n",
        "    return cross_val_score(model, X_train, y_train, cv=kf, verbose=False)"
      ],
      "execution_count": 0,
      "outputs": []
    },
    {
      "cell_type": "code",
      "metadata": {
        "id": "kFxfkmsp7Teg",
        "colab_type": "code",
        "colab": {}
      },
      "source": [
        "model_type_selection = [LinearRegression, Ridge, Lasso, ElasticNet, RandomForestRegressor, XGBRegressor, HuberRegressor]"
      ],
      "execution_count": 0,
      "outputs": []
    },
    {
      "cell_type": "code",
      "metadata": {
        "id": "F4RqYGRP7Tei",
        "colab_type": "code",
        "colab": {
          "base_uri": "https://localhost:8080/",
          "height": 816
        },
        "outputId": "8cfb8221-f577-4c0d-9946-fdd941b84fdb"
      },
      "source": [
        "for model_type in model_type_selection:\n",
        "    if model_type == XGBRegressor:\n",
        "        cv_result = rmse_cv(XGBRegressor(objective='reg:squarederror'))\n",
        "    else:\n",
        "        cv_result = rmse_cv(model_type())\n",
        "    print(\"{}: {:.5f} +/- {:.5f}\".format(model_type.__name__, cv_result.mean(), cv_result.std()))"
      ],
      "execution_count": 121,
      "outputs": [
        {
          "output_type": "stream",
          "text": [
            "LinearRegression: 0.04546 +/- 0.01281\n",
            "Ridge: 0.04547 +/- 0.01285\n",
            "Lasso: 0.03482 +/- 0.01069\n",
            "ElasticNet: 0.01982 +/- 0.00624\n"
          ],
          "name": "stdout"
        },
        {
          "output_type": "stream",
          "text": [
            "/usr/local/lib/python3.6/dist-packages/sklearn/ensemble/forest.py:245: FutureWarning:\n",
            "\n",
            "The default value of n_estimators will change from 10 in version 0.20 to 100 in 0.22.\n",
            "\n",
            "/usr/local/lib/python3.6/dist-packages/sklearn/ensemble/forest.py:245: FutureWarning:\n",
            "\n",
            "The default value of n_estimators will change from 10 in version 0.20 to 100 in 0.22.\n",
            "\n",
            "/usr/local/lib/python3.6/dist-packages/sklearn/ensemble/forest.py:245: FutureWarning:\n",
            "\n",
            "The default value of n_estimators will change from 10 in version 0.20 to 100 in 0.22.\n",
            "\n",
            "/usr/local/lib/python3.6/dist-packages/sklearn/ensemble/forest.py:245: FutureWarning:\n",
            "\n",
            "The default value of n_estimators will change from 10 in version 0.20 to 100 in 0.22.\n",
            "\n",
            "/usr/local/lib/python3.6/dist-packages/sklearn/ensemble/forest.py:245: FutureWarning:\n",
            "\n",
            "The default value of n_estimators will change from 10 in version 0.20 to 100 in 0.22.\n",
            "\n"
          ],
          "name": "stderr"
        },
        {
          "output_type": "stream",
          "text": [
            "RandomForestRegressor: -0.03644 +/- 0.07487\n"
          ],
          "name": "stdout"
        },
        {
          "output_type": "stream",
          "text": [
            "/usr/local/lib/python3.6/dist-packages/xgboost/core.py:587: FutureWarning:\n",
            "\n",
            "Series.base is deprecated and will be removed in a future version\n",
            "\n",
            "/usr/local/lib/python3.6/dist-packages/xgboost/core.py:587: FutureWarning:\n",
            "\n",
            "Series.base is deprecated and will be removed in a future version\n",
            "\n",
            "/usr/local/lib/python3.6/dist-packages/xgboost/core.py:587: FutureWarning:\n",
            "\n",
            "Series.base is deprecated and will be removed in a future version\n",
            "\n",
            "/usr/local/lib/python3.6/dist-packages/xgboost/core.py:587: FutureWarning:\n",
            "\n",
            "Series.base is deprecated and will be removed in a future version\n",
            "\n",
            "/usr/local/lib/python3.6/dist-packages/xgboost/core.py:587: FutureWarning:\n",
            "\n",
            "Series.base is deprecated and will be removed in a future version\n",
            "\n"
          ],
          "name": "stderr"
        },
        {
          "output_type": "stream",
          "text": [
            "XGBRegressor: 0.07535 +/- 0.03330\n",
            "HuberRegressor: -0.01513 +/- 0.00260\n"
          ],
          "name": "stdout"
        }
      ]
    },
    {
      "cell_type": "markdown",
      "metadata": {
        "id": "SuIf0WP17Tek",
        "colab_type": "text"
      },
      "source": [
        "### Ridge Regression"
      ]
    },
    {
      "cell_type": "code",
      "metadata": {
        "id": "Edhqp7Cm7Tek",
        "colab_type": "code",
        "colab": {}
      },
      "source": [
        "alphas1 = [0.05, 0.1, 0.3, 1, 3, 5, 10, 15, 30, 50, 75]\n",
        "cv_ridge1 = [rmse_cv(Ridge(alpha=alpha)).mean() for alpha in alphas1]"
      ],
      "execution_count": 0,
      "outputs": []
    },
    {
      "cell_type": "code",
      "metadata": {
        "id": "o3cRBq0k7Ten",
        "colab_type": "code",
        "colab": {}
      },
      "source": [
        "alphas2 = [0.5*i for i in range (4, 12)]\n",
        "cv_ridge2 = [rmse_cv(Ridge(alpha=alpha)).mean() for alpha in alphas2]"
      ],
      "execution_count": 0,
      "outputs": []
    },
    {
      "cell_type": "code",
      "metadata": {
        "id": "FouTzHMR7Tep",
        "colab_type": "code",
        "colab": {
          "base_uri": "https://localhost:8080/",
          "height": 34
        },
        "outputId": "f4e03aa1-5b3c-440a-9d3e-a862b13e2db8"
      },
      "source": [
        "len(alphas2)"
      ],
      "execution_count": 124,
      "outputs": [
        {
          "output_type": "execute_result",
          "data": {
            "text/plain": [
              "8"
            ]
          },
          "metadata": {
            "tags": []
          },
          "execution_count": 124
        }
      ]
    },
    {
      "cell_type": "code",
      "metadata": {
        "id": "ow7UGlk47Tes",
        "colab_type": "code",
        "colab": {}
      },
      "source": [
        "alphas3 = [1, 1e2, 1e3, 1e4, 1e5, 1e6, 1e7, 1e8]\n",
        "cv_ridge3 = [rmse_cv(Ridge(alpha=alpha)).mean() for alpha in alphas3]"
      ],
      "execution_count": 0,
      "outputs": []
    },
    {
      "cell_type": "code",
      "metadata": {
        "id": "3Ny2mwWM7Teu",
        "colab_type": "code",
        "colab": {}
      },
      "source": [
        "cv_ridge1 = pd.Series(cv_ridge1, index=alphas1)\n",
        "cv_ridge2 = pd.Series(cv_ridge2, index=alphas2)\n",
        "cv_ridge3 = pd.Series(cv_ridge3, index=alphas3)"
      ],
      "execution_count": 0,
      "outputs": []
    },
    {
      "cell_type": "code",
      "metadata": {
        "id": "OV1KFdFf7Tev",
        "colab_type": "code",
        "colab": {
          "base_uri": "https://localhost:8080/",
          "height": 517
        },
        "outputId": "28f961b0-da4d-44e2-de31-960f21287380"
      },
      "source": [
        "fig, axes = plt.subplots(1,3,figsize=(21,8))\n",
        "cv_ridge1.plot(title='Ridge Regression Cross-Validation Alphas 1', style='-o', ax=axes[0])\n",
        "axes[0].set_xlabel('alpha')\n",
        "axes[0].set_ylabel('rmse')\n",
        "axes[0].set_xscale('log')\n",
        "\n",
        "cv_ridge2.plot(title='Ridge Regression Cross-Validation Alphas 2', style='-o', ax=axes[1])\n",
        "axes[1].set_xlabel('alpha')\n",
        "axes[1].set_ylabel('rmse')\n",
        "axes[1].set_xscale('log')\n",
        "\n",
        "cv_ridge3.plot(title='Ridge Regression Cross-Validation Alphas 3', style='-o', ax=axes[2])\n",
        "axes[2].set_xlabel('alpha')\n",
        "axes[2].set_ylabel('rmse')\n",
        "axes[2].set_xscale('log')"
      ],
      "execution_count": 127,
      "outputs": [
        {
          "output_type": "display_data",
          "data": {
            "image/png": "[encoded data removed]",
            "text/plain": [
              "<Figure size 1512x576 with 3 Axes>"
            ]
          },
          "metadata": {
            "tags": []
          }
        }
      ]
    },
    {
      "cell_type": "code",
      "metadata": {
        "id": "Rdz162-l7Tex",
        "colab_type": "code",
        "colab": {
          "base_uri": "https://localhost:8080/",
          "height": 34
        },
        "outputId": "162287ca-cc1b-4131-f9cc-54d850adbbe2"
      },
      "source": [
        "best_alpha = alphas3[np.argmin(cv_ridge3.values)]\n",
        "best_alpha"
      ],
      "execution_count": 128,
      "outputs": [
        {
          "output_type": "execute_result",
          "data": {
            "text/plain": [
              "100000000.0"
            ]
          },
          "metadata": {
            "tags": []
          },
          "execution_count": 128
        }
      ]
    },
    {
      "cell_type": "code",
      "metadata": {
        "id": "Mkgd45Tu7Tez",
        "colab_type": "code",
        "colab": {
          "base_uri": "https://localhost:8080/",
          "height": 80
        },
        "outputId": "660be047-1af9-448a-f128-6fbb64f65856"
      },
      "source": [
        "rr_cv_best = rmse_cv(Ridge(alpha=best_alpha))\n",
        "rr = Ridge(alpha=best_alpha)\n",
        "rr.fit(X_train, y_train)\n",
        "y_train_rr = rr.predict(X_train)\n",
        "y_test_rr = rr.predict(X_test)\n",
        "rr_results = pd.DataFrame({\n",
        "    'model_type': 'Ridge Regression',\n",
        "    'CV error': rr_cv_best.mean(),\n",
        "    'CV std': rr_cv_best.std(),\n",
        "    'training_error': [mean_squared_error(y_train, y_train_rr)],\n",
        "    'test_error': [mean_squared_error(y_test, y_test_rr)],\n",
        "    'training_r2_score': [r2_score(y_train, y_train_rr)],\n",
        "    'test_r2_score': [r2_score(y_test, y_test_rr)]\n",
        "})\n",
        "rr_results"
      ],
      "execution_count": 129,
      "outputs": [
        {
          "output_type": "execute_result",
          "data": {
            "text/html": [
              "<div>\n",
              "<style scoped>\n",
              "    .dataframe tbody tr th:only-of-type {\n",
              "        vertical-align: middle;\n",
              "    }\n",
              "\n",
              "    .dataframe tbody tr th {\n",
              "        vertical-align: top;\n",
              "    }\n",
              "\n",
              "    .dataframe thead th {\n",
              "        text-align: right;\n",
              "    }\n",
              "</style>\n",
              "<table border=\"1\" class=\"dataframe\">\n",
              "  <thead>\n",
              "    <tr style=\"text-align: right;\">\n",
              "      <th></th>\n",
              "      <th>model_type</th>\n",
              "      <th>CV error</th>\n",
              "      <th>CV std</th>\n",
              "      <th>training_error</th>\n",
              "      <th>test_error</th>\n",
              "      <th>training_r2_score</th>\n",
              "      <th>test_r2_score</th>\n",
              "    </tr>\n",
              "  </thead>\n",
              "  <tbody>\n",
              "    <tr>\n",
              "      <th>0</th>\n",
              "      <td>Ridge Regression</td>\n",
              "      <td>0.018687</td>\n",
              "      <td>0.006073</td>\n",
              "      <td>59965.31695</td>\n",
              "      <td>43686.917646</td>\n",
              "      <td>0.017384</td>\n",
              "      <td>0.012463</td>\n",
              "    </tr>\n",
              "  </tbody>\n",
              "</table>\n",
              "</div>"
            ],
            "text/plain": [
              "         model_type  CV error  ...  training_r2_score  test_r2_score\n",
              "0  Ridge Regression  0.018687  ...           0.017384       0.012463\n",
              "\n",
              "[1 rows x 7 columns]"
            ]
          },
          "metadata": {
            "tags": []
          },
          "execution_count": 129
        }
      ]
    },
    {
      "cell_type": "markdown",
      "metadata": {
        "id": "5DwwGx5_7Te1",
        "colab_type": "text"
      },
      "source": [
        "### Lasso Regression"
      ]
    },
    {
      "cell_type": "code",
      "metadata": {
        "id": "LOOMPNB47Te2",
        "colab_type": "code",
        "colab": {}
      },
      "source": [
        "lasso_alphas1 = [0.0001, 0.001, 0.005,0.01, 0.05, 0.1, 0.3, 1]\n",
        "cv_lasso1 = [rmse_cv(Lasso(alpha=alpha, max_iter=2000)).mean() for alpha in lasso_alphas1]"
      ],
      "execution_count": 0,
      "outputs": []
    },
    {
      "cell_type": "code",
      "metadata": {
        "id": "EpG9G0u97Te4",
        "colab_type": "code",
        "colab": {}
      },
      "source": [
        "lasso_alphas2 = [1, 5, 10, 25, 50, 100]\n",
        "cv_lasso2 = [rmse_cv(Lasso(alpha=alpha, max_iter=2000)).mean() for alpha in lasso_alphas2]"
      ],
      "execution_count": 0,
      "outputs": []
    },
    {
      "cell_type": "code",
      "metadata": {
        "id": "LngT_EvK7Te6",
        "colab_type": "code",
        "colab": {
          "base_uri": "https://localhost:8080/",
          "height": 0
        },
        "outputId": "18d6121e-baf2-4299-cddf-3a2e262ded8c"
      },
      "source": [
        "cv_lasso1 = pd.Series(cv_lasso1, index=lasso_alphas1)\n",
        "cv_lasso2 = pd.Series(cv_lasso2, index=lasso_alphas2)\n",
        "\n",
        "fig, axes = plt.subplots(1,2,figsize=(21,8))\n",
        "cv_lasso1.plot(title='Lasso Regression Cross-Validation Alphas 1', style='-o', ax=axes[0])\n",
        "axes[0].set_xlabel('alpha')\n",
        "axes[0].set_ylabel('rmse')\n",
        "axes[0].set_xscale('log')\n",
        "\n",
        "cv_lasso2.plot(title='Lasso Regression Cross-Validation Alphas 2', style='-o', ax=axes[1])\n",
        "axes[1].set_xlabel('alpha')\n",
        "axes[1].set_ylabel('rmse')\n",
        "axes[1].set_xscale('log')"
      ],
      "execution_count": 132,
      "outputs": [
        {
          "output_type": "display_data",
          "data": {
            "image/png": "[encoded data removed]",
            "text/plain": [
              "<Figure size 1512x576 with 2 Axes>"
            ]
          },
          "metadata": {
            "tags": []
          }
        }
      ]
    },
    {
      "cell_type": "code",
      "metadata": {
        "id": "HjiE4RLC7Te7",
        "colab_type": "code",
        "colab": {}
      },
      "source": [
        "# best_lasso_alpha = lasso_alphas2[np.argmin(cv_lasso2.values)]\n",
        "best_lasso_alpha = 5"
      ],
      "execution_count": 0,
      "outputs": []
    },
    {
      "cell_type": "code",
      "metadata": {
        "id": "haenI1s07Te9",
        "colab_type": "code",
        "colab": {
          "base_uri": "https://localhost:8080/",
          "height": 0
        },
        "outputId": "53d4bec7-c7dc-4553-bc73-1df629743489"
      },
      "source": [
        "lasso_cv_best = rmse_cv(Lasso(alpha=best_lasso_alpha))\n",
        "lasso_model = Lasso(alpha=best_lasso_alpha)\n",
        "lasso_model.fit(X_train, y_train)\n",
        "y_train_lasso = lasso_model.predict(X_train)\n",
        "y_test_lasso = lasso_model.predict(X_test)\n",
        "lasso_results = pd.DataFrame({\n",
        "    'model_type': 'Lasso Regression',\n",
        "    'CV error': lasso_cv_best.mean(),\n",
        "    'CV std': lasso_cv_best.std(),\n",
        "    'training_error': [mean_squared_error(y_train, y_train_lasso)],\n",
        "    'test_error': [mean_squared_error(y_test, y_test_lasso)],\n",
        "    'training_r2_score': [r2_score(y_train, y_train_lasso)],\n",
        "    'test_r2_score': [r2_score(y_test, y_test_lasso)]\n",
        "})\n",
        "lasso_results"
      ],
      "execution_count": 134,
      "outputs": [
        {
          "output_type": "execute_result",
          "data": {
            "text/html": [
              "<div>\n",
              "<style scoped>\n",
              "    .dataframe tbody tr th:only-of-type {\n",
              "        vertical-align: middle;\n",
              "    }\n",
              "\n",
              "    .dataframe tbody tr th {\n",
              "        vertical-align: top;\n",
              "    }\n",
              "\n",
              "    .dataframe thead th {\n",
              "        text-align: right;\n",
              "    }\n",
              "</style>\n",
              "<table border=\"1\" class=\"dataframe\">\n",
              "  <thead>\n",
              "    <tr style=\"text-align: right;\">\n",
              "      <th></th>\n",
              "      <th>model_type</th>\n",
              "      <th>CV error</th>\n",
              "      <th>CV std</th>\n",
              "      <th>training_error</th>\n",
              "      <th>test_error</th>\n",
              "      <th>training_r2_score</th>\n",
              "      <th>test_r2_score</th>\n",
              "    </tr>\n",
              "  </thead>\n",
              "  <tbody>\n",
              "    <tr>\n",
              "      <th>0</th>\n",
              "      <td>Lasso Regression</td>\n",
              "      <td>0.019664</td>\n",
              "      <td>0.006183</td>\n",
              "      <td>59910.220759</td>\n",
              "      <td>43635.864983</td>\n",
              "      <td>0.018287</td>\n",
              "      <td>0.013617</td>\n",
              "    </tr>\n",
              "  </tbody>\n",
              "</table>\n",
              "</div>"
            ],
            "text/plain": [
              "         model_type  CV error  ...  training_r2_score  test_r2_score\n",
              "0  Lasso Regression  0.019664  ...           0.018287       0.013617\n",
              "\n",
              "[1 rows x 7 columns]"
            ]
          },
          "metadata": {
            "tags": []
          },
          "execution_count": 134
        }
      ]
    },
    {
      "cell_type": "code",
      "metadata": {
        "id": "Mh52imht7Te-",
        "colab_type": "code",
        "colab": {
          "base_uri": "https://localhost:8080/",
          "height": 0
        },
        "outputId": "47578282-ef94-4a14-ad56-e559d8623472"
      },
      "source": [
        "lasso_coefs = pd.Series(lasso_model.coef_, index=num_features.columns)\n",
        "lasso_coefs"
      ],
      "execution_count": 135,
      "outputs": [
        {
          "output_type": "execute_result",
          "data": {
            "text/plain": [
              "latitude                          0.000000\n",
              "longitude                        -0.000000\n",
              "minimum_nights                    0.161610\n",
              "number_of_reviews                -0.180078\n",
              "last_review                      -0.017931\n",
              "reviews_per_month                -0.000000\n",
              "calculated_host_listings_count    0.164204\n",
              "availability_365                  0.167021\n",
              "dtype: float64"
            ]
          },
          "metadata": {
            "tags": []
          },
          "execution_count": 135
        }
      ]
    },
    {
      "cell_type": "markdown",
      "metadata": {
        "id": "YJwee55F7TfB",
        "colab_type": "text"
      },
      "source": [
        "### Random Forest Regressor"
      ]
    },
    {
      "cell_type": "code",
      "metadata": {
        "id": "jVt8KT-Z7TfD",
        "colab_type": "code",
        "colab": {
          "base_uri": "https://localhost:8080/",
          "height": 488
        },
        "outputId": "cf94008b-1ae2-4c39-ff01-6a6bc8a1d1a7"
      },
      "source": [
        "rfr_cv_baseline = rmse_cv(RandomForestRegressor(random_state=42))\n",
        "rfr_baseline = RandomForestRegressor(random_state=42)\n",
        "rfr_baseline.fit(X_train, y_train)\n",
        "y_train_rfr = rfr_baseline.predict(X_train)\n",
        "y_test_rfr = rfr_baseline.predict(X_test)\n",
        "rfr_baseline_results = pd.DataFrame({\n",
        "    'model_type': 'Random Forest Regression',\n",
        "    'CV error': rfr_cv_baseline.mean(),\n",
        "    'CV std': rfr_cv_baseline.std(),\n",
        "    'training_error': [mean_squared_error(y_train, y_train_rfr)],\n",
        "    'test_error': [mean_squared_error(y_test, y_test_rfr)],\n",
        "    'training_r2_score': [r2_score(y_train, y_train_rfr)],\n",
        "    'test_r2_score': [r2_score(y_test, y_test_rfr)]\n",
        "})\n",
        "rfr_baseline_results"
      ],
      "execution_count": 136,
      "outputs": [
        {
          "output_type": "stream",
          "text": [
            "/usr/local/lib/python3.6/dist-packages/sklearn/ensemble/forest.py:245: FutureWarning:\n",
            "\n",
            "The default value of n_estimators will change from 10 in version 0.20 to 100 in 0.22.\n",
            "\n",
            "/usr/local/lib/python3.6/dist-packages/sklearn/ensemble/forest.py:245: FutureWarning:\n",
            "\n",
            "The default value of n_estimators will change from 10 in version 0.20 to 100 in 0.22.\n",
            "\n",
            "/usr/local/lib/python3.6/dist-packages/sklearn/ensemble/forest.py:245: FutureWarning:\n",
            "\n",
            "The default value of n_estimators will change from 10 in version 0.20 to 100 in 0.22.\n",
            "\n",
            "/usr/local/lib/python3.6/dist-packages/sklearn/ensemble/forest.py:245: FutureWarning:\n",
            "\n",
            "The default value of n_estimators will change from 10 in version 0.20 to 100 in 0.22.\n",
            "\n",
            "/usr/local/lib/python3.6/dist-packages/sklearn/ensemble/forest.py:245: FutureWarning:\n",
            "\n",
            "The default value of n_estimators will change from 10 in version 0.20 to 100 in 0.22.\n",
            "\n",
            "/usr/local/lib/python3.6/dist-packages/sklearn/ensemble/forest.py:245: FutureWarning:\n",
            "\n",
            "The default value of n_estimators will change from 10 in version 0.20 to 100 in 0.22.\n",
            "\n"
          ],
          "name": "stderr"
        },
        {
          "output_type": "execute_result",
          "data": {
            "text/html": [
              "<div>\n",
              "<style scoped>\n",
              "    .dataframe tbody tr th:only-of-type {\n",
              "        vertical-align: middle;\n",
              "    }\n",
              "\n",
              "    .dataframe tbody tr th {\n",
              "        vertical-align: top;\n",
              "    }\n",
              "\n",
              "    .dataframe thead th {\n",
              "        text-align: right;\n",
              "    }\n",
              "</style>\n",
              "<table border=\"1\" class=\"dataframe\">\n",
              "  <thead>\n",
              "    <tr style=\"text-align: right;\">\n",
              "      <th></th>\n",
              "      <th>model_type</th>\n",
              "      <th>CV error</th>\n",
              "      <th>CV std</th>\n",
              "      <th>training_error</th>\n",
              "      <th>test_error</th>\n",
              "      <th>training_r2_score</th>\n",
              "      <th>test_r2_score</th>\n",
              "    </tr>\n",
              "  </thead>\n",
              "  <tbody>\n",
              "    <tr>\n",
              "      <th>0</th>\n",
              "      <td>Random Forest Regression</td>\n",
              "      <td>-0.016454</td>\n",
              "      <td>0.031204</td>\n",
              "      <td>10703.95303</td>\n",
              "      <td>49614.329169</td>\n",
              "      <td>0.824601</td>\n",
              "      <td>-0.121526</td>\n",
              "    </tr>\n",
              "  </tbody>\n",
              "</table>\n",
              "</div>"
            ],
            "text/plain": [
              "                 model_type  CV error  ...  training_r2_score  test_r2_score\n",
              "0  Random Forest Regression -0.016454  ...           0.824601      -0.121526\n",
              "\n",
              "[1 rows x 7 columns]"
            ]
          },
          "metadata": {
            "tags": []
          },
          "execution_count": 136
        }
      ]
    },
    {
      "cell_type": "code",
      "metadata": {
        "id": "Z-vNarC77TfF",
        "colab_type": "code",
        "colab": {
          "base_uri": "https://localhost:8080/",
          "height": 867
        },
        "outputId": "004b2ac3-5dcb-4069-e831-3b03243d8f94"
      },
      "source": [
        "rfr_baseline.estimators_"
      ],
      "execution_count": 137,
      "outputs": [
        {
          "output_type": "execute_result",
          "data": {
            "text/plain": [
              "[DecisionTreeRegressor(criterion='mse', max_depth=None, max_features='auto',\n",
              "                       max_leaf_nodes=None, min_impurity_decrease=0.0,\n",
              "                       min_impurity_split=None, min_samples_leaf=1,\n",
              "                       min_samples_split=2, min_weight_fraction_leaf=0.0,\n",
              "                       presort=False, random_state=1608637542, splitter='best'),\n",
              " DecisionTreeRegressor(criterion='mse', max_depth=None, max_features='auto',\n",
              "                       max_leaf_nodes=None, min_impurity_decrease=0.0,\n",
              "                       min_impurity_split=None, min_samples_leaf=1,\n",
              "                       min_samples_split=2, min_weight_fraction_leaf=0.0,\n",
              "                       presort=False, random_state=1273642419, splitter='best'),\n",
              " DecisionTreeRegressor(criterion='mse', max_depth=None, max_features='auto',\n",
              "                       max_leaf_nodes=None, min_impurity_decrease=0.0,\n",
              "                       min_impurity_split=None, min_samples_leaf=1,\n",
              "                       min_samples_split=2, min_weight_fraction_leaf=0.0,\n",
              "                       presort=False, random_state=1935803228, splitter='best'),\n",
              " DecisionTreeRegressor(criterion='mse', max_depth=None, max_features='auto',\n",
              "                       max_leaf_nodes=None, min_impurity_decrease=0.0,\n",
              "                       min_impurity_split=None, min_samples_leaf=1,\n",
              "                       min_samples_split=2, min_weight_fraction_leaf=0.0,\n",
              "                       presort=False, random_state=787846414, splitter='best'),\n",
              " DecisionTreeRegressor(criterion='mse', max_depth=None, max_features='auto',\n",
              "                       max_leaf_nodes=None, min_impurity_decrease=0.0,\n",
              "                       min_impurity_split=None, min_samples_leaf=1,\n",
              "                       min_samples_split=2, min_weight_fraction_leaf=0.0,\n",
              "                       presort=False, random_state=996406378, splitter='best'),\n",
              " DecisionTreeRegressor(criterion='mse', max_depth=None, max_features='auto',\n",
              "                       max_leaf_nodes=None, min_impurity_decrease=0.0,\n",
              "                       min_impurity_split=None, min_samples_leaf=1,\n",
              "                       min_samples_split=2, min_weight_fraction_leaf=0.0,\n",
              "                       presort=False, random_state=1201263687, splitter='best'),\n",
              " DecisionTreeRegressor(criterion='mse', max_depth=None, max_features='auto',\n",
              "                       max_leaf_nodes=None, min_impurity_decrease=0.0,\n",
              "                       min_impurity_split=None, min_samples_leaf=1,\n",
              "                       min_samples_split=2, min_weight_fraction_leaf=0.0,\n",
              "                       presort=False, random_state=423734972, splitter='best'),\n",
              " DecisionTreeRegressor(criterion='mse', max_depth=None, max_features='auto',\n",
              "                       max_leaf_nodes=None, min_impurity_decrease=0.0,\n",
              "                       min_impurity_split=None, min_samples_leaf=1,\n",
              "                       min_samples_split=2, min_weight_fraction_leaf=0.0,\n",
              "                       presort=False, random_state=415968276, splitter='best'),\n",
              " DecisionTreeRegressor(criterion='mse', max_depth=None, max_features='auto',\n",
              "                       max_leaf_nodes=None, min_impurity_decrease=0.0,\n",
              "                       min_impurity_split=None, min_samples_leaf=1,\n",
              "                       min_samples_split=2, min_weight_fraction_leaf=0.0,\n",
              "                       presort=False, random_state=670094950, splitter='best'),\n",
              " DecisionTreeRegressor(criterion='mse', max_depth=None, max_features='auto',\n",
              "                       max_leaf_nodes=None, min_impurity_decrease=0.0,\n",
              "                       min_impurity_split=None, min_samples_leaf=1,\n",
              "                       min_samples_split=2, min_weight_fraction_leaf=0.0,\n",
              "                       presort=False, random_state=1914837113, splitter='best')]"
            ]
          },
          "metadata": {
            "tags": []
          },
          "execution_count": 137
        }
      ]
    },
    {
      "cell_type": "code",
      "metadata": {
        "id": "E7F-xMryk_tf",
        "colab_type": "code",
        "colab": {}
      },
      "source": [
        "# pip install eli5"
      ],
      "execution_count": 0,
      "outputs": []
    },
    {
      "cell_type": "code",
      "metadata": {
        "id": "0VT69WEw7TfH",
        "colab_type": "code",
        "colab": {
          "base_uri": "https://localhost:8080/",
          "height": 170
        },
        "outputId": "467ed258-b996-41c4-a078-8f713e6d123d"
      },
      "source": [
        "import eli5\n",
        "eli5.show_weights(rfr_baseline, feature_names=list(num_features.columns))"
      ],
      "execution_count": 139,
      "outputs": [
        {
          "output_type": "execute_result",
          "data": {
            "text/html": [
              "\n",
              "    <style>\n",
              "    table.eli5-weights tr:hover {\n",
              "        filter: brightness(85%);\n",
              "    }\n",
              "</style>\n",
              "\n",
              "\n",
              "\n",
              "    \n",
              "\n",
              "    \n",
              "\n",
              "    \n",
              "\n",
              "    \n",
              "\n",
              "    \n",
              "\n",
              "    \n",
              "\n",
              "\n",
              "    \n",
              "\n",
              "    \n",
              "\n",
              "    \n",
              "\n",
              "    \n",
              "\n",
              "    \n",
              "\n",
              "    \n",
              "\n",
              "\n",
              "    \n",
              "\n",
              "    \n",
              "\n",
              "    \n",
              "\n",
              "    \n",
              "\n",
              "    \n",
              "        <table class=\"eli5-weights eli5-feature-importances\" style=\"border-collapse: collapse; border: none; margin-top: 0em; table-layout: auto;\">\n",
              "    <thead>\n",
              "    <tr style=\"border: none;\">\n",
              "        <th style=\"padding: 0 1em 0 0.5em; text-align: right; border: none;\">Weight</th>\n",
              "        <th style=\"padding: 0 0.5em 0 0.5em; text-align: left; border: none;\">Feature</th>\n",
              "    </tr>\n",
              "    </thead>\n",
              "    <tbody>\n",
              "    \n",
              "        <tr style=\"background-color: hsl(120, 100.00%, 80.00%); border: none;\">\n",
              "            <td style=\"padding: 0 1em 0 0.5em; text-align: right; border: none;\">\n",
              "                0.2810\n",
              "                \n",
              "                    &plusmn; 0.1549\n",
              "                \n",
              "            </td>\n",
              "            <td style=\"padding: 0 0.5em 0 0.5em; text-align: left; border: none;\">\n",
              "                longitude\n",
              "            </td>\n",
              "        </tr>\n",
              "    \n",
              "        <tr style=\"background-color: hsl(120, 100.00%, 80.46%); border: none;\">\n",
              "            <td style=\"padding: 0 1em 0 0.5em; text-align: right; border: none;\">\n",
              "                0.2718\n",
              "                \n",
              "                    &plusmn; 0.1580\n",
              "                \n",
              "            </td>\n",
              "            <td style=\"padding: 0 0.5em 0 0.5em; text-align: left; border: none;\">\n",
              "                latitude\n",
              "            </td>\n",
              "        </tr>\n",
              "    \n",
              "        <tr style=\"background-color: hsl(120, 100.00%, 89.39%); border: none;\">\n",
              "            <td style=\"padding: 0 1em 0 0.5em; text-align: right; border: none;\">\n",
              "                0.1137\n",
              "                \n",
              "                    &plusmn; 0.1034\n",
              "                \n",
              "            </td>\n",
              "            <td style=\"padding: 0 0.5em 0 0.5em; text-align: left; border: none;\">\n",
              "                minimum_nights\n",
              "            </td>\n",
              "        </tr>\n",
              "    \n",
              "        <tr style=\"background-color: hsl(120, 100.00%, 90.70%); border: none;\">\n",
              "            <td style=\"padding: 0 1em 0 0.5em; text-align: right; border: none;\">\n",
              "                0.0941\n",
              "                \n",
              "                    &plusmn; 0.0475\n",
              "                \n",
              "            </td>\n",
              "            <td style=\"padding: 0 0.5em 0 0.5em; text-align: left; border: none;\">\n",
              "                availability_365\n",
              "            </td>\n",
              "        </tr>\n",
              "    \n",
              "        <tr style=\"background-color: hsl(120, 100.00%, 91.64%); border: none;\">\n",
              "            <td style=\"padding: 0 1em 0 0.5em; text-align: right; border: none;\">\n",
              "                0.0808\n",
              "                \n",
              "                    &plusmn; 0.0798\n",
              "                \n",
              "            </td>\n",
              "            <td style=\"padding: 0 0.5em 0 0.5em; text-align: left; border: none;\">\n",
              "                last_review\n",
              "            </td>\n",
              "        </tr>\n",
              "    \n",
              "        <tr style=\"background-color: hsl(120, 100.00%, 93.30%); border: none;\">\n",
              "            <td style=\"padding: 0 1em 0 0.5em; text-align: right; border: none;\">\n",
              "                0.0590\n",
              "                \n",
              "                    &plusmn; 0.0484\n",
              "                \n",
              "            </td>\n",
              "            <td style=\"padding: 0 0.5em 0 0.5em; text-align: left; border: none;\">\n",
              "                calculated_host_listings_count\n",
              "            </td>\n",
              "        </tr>\n",
              "    \n",
              "        <tr style=\"background-color: hsl(120, 100.00%, 93.76%); border: none;\">\n",
              "            <td style=\"padding: 0 1em 0 0.5em; text-align: right; border: none;\">\n",
              "                0.0532\n",
              "                \n",
              "                    &plusmn; 0.0549\n",
              "                \n",
              "            </td>\n",
              "            <td style=\"padding: 0 0.5em 0 0.5em; text-align: left; border: none;\">\n",
              "                reviews_per_month\n",
              "            </td>\n",
              "        </tr>\n",
              "    \n",
              "        <tr style=\"background-color: hsl(120, 100.00%, 94.33%); border: none;\">\n",
              "            <td style=\"padding: 0 1em 0 0.5em; text-align: right; border: none;\">\n",
              "                0.0464\n",
              "                \n",
              "                    &plusmn; 0.0484\n",
              "                \n",
              "            </td>\n",
              "            <td style=\"padding: 0 0.5em 0 0.5em; text-align: left; border: none;\">\n",
              "                number_of_reviews\n",
              "            </td>\n",
              "        </tr>\n",
              "    \n",
              "    \n",
              "    </tbody>\n",
              "</table>\n",
              "    \n",
              "\n",
              "    \n",
              "\n",
              "\n",
              "    \n",
              "\n",
              "    \n",
              "\n",
              "    \n",
              "\n",
              "    \n",
              "\n",
              "    \n",
              "\n",
              "    \n",
              "\n",
              "\n",
              "\n"
            ],
            "text/plain": [
              "<IPython.core.display.HTML object>"
            ]
          },
          "metadata": {
            "tags": []
          },
          "execution_count": 139
        }
      ]
    },
    {
      "cell_type": "code",
      "metadata": {
        "id": "CySk8Ds97TfJ",
        "colab_type": "code",
        "colab": {}
      },
      "source": [
        ""
      ],
      "execution_count": 0,
      "outputs": []
    }
  ]
}