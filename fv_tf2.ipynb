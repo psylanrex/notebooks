{
  "nbformat": 4,
  "nbformat_minor": 0,
  "metadata": {
    "colab": {
      "name": "fv_tf2.ipynb",
      "provenance": [],
      "collapsed_sections": [],
      "toc_visible": true,
      "authorship_tag": "ABX9TyNsQ8CPgUQVaxWPqNkkq9An",
      "include_colab_link": true
    },
    "kernelspec": {
      "name": "python3",
      "display_name": "Python 3"
    }
  },
  "cells": [
    {
      "cell_type": "markdown",
      "metadata": {
        "id": "view-in-github",
        "colab_type": "text"
      },
      "source": [
        "<a href=\"https://colab.research.google.com/github/psylanrex/notebooks/blob/master/fv_tf2.ipynb\" target=\"_parent\"><img src=\"https://colab.research.google.com/assets/colab-badge.svg\" alt=\"Open In Colab\"/></a>"
      ]
    },
    {
      "cell_type": "code",
      "metadata": {
        "id": "PWz8B_Rlz7eb",
        "colab_type": "code",
        "colab": {
          "base_uri": "https://localhost:8080/",
          "height": 34
        },
        "outputId": "aa115480-188e-4d7e-91ba-21db7cd89fe5"
      },
      "source": [
        "from __future__ import absolute_import, division, print_function, unicode_literals\n",
        "\n",
        "# Install TensorFlow\n",
        "try:\n",
        "  # %tensorflow_version only exists in Colab.\n",
        "  %tensorflow_version 2.x\n",
        "except Exception:\n",
        "  pass"
      ],
      "execution_count": 1,
      "outputs": [
        {
          "output_type": "stream",
          "text": [
            "TensorFlow 2.x selected.\n"
          ],
          "name": "stdout"
        }
      ]
    },
    {
      "cell_type": "code",
      "metadata": {
        "id": "4zYG_SmN0HAj",
        "colab_type": "code",
        "outputId": "a46e1a7d-a1eb-4b65-d6fc-eab731ef600d",
        "colab": {
          "base_uri": "https://localhost:8080/",
          "height": 34
        }
      },
      "source": [
        "from google.colab import drive\n",
        "drive.mount('/content/drive', force_remount=True)"
      ],
      "execution_count": 2,
      "outputs": [
        {
          "output_type": "stream",
          "text": [
            "Mounted at /content/drive\n"
          ],
          "name": "stdout"
        }
      ]
    },
    {
      "cell_type": "code",
      "metadata": {
        "id": "yEeAwvr_0JPr",
        "colab_type": "code",
        "colab": {}
      },
      "source": [
        "import pandas as pd\n",
        "import numpy as np\n",
        "import matplotlib.pyplot as plt\n",
        "from math import sqrt, log, exp\n",
        "import tensorflow as tf\n",
        "from tensorflow import keras\n",
        "import warnings\n",
        "from sklearn.metrics import mean_squared_error\n",
        "from statsmodels.tsa.stattools import adfuller\n",
        "from statsmodels.graphics.tsaplots import plot_acf, plot_pacf"
      ],
      "execution_count": 0,
      "outputs": []
    },
    {
      "cell_type": "code",
      "metadata": {
        "id": "oj-bqjUP0QxB",
        "colab_type": "code",
        "colab": {}
      },
      "source": [
        "warnings.filterwarnings('ignore')"
      ],
      "execution_count": 0,
      "outputs": []
    },
    {
      "cell_type": "markdown",
      "metadata": {
        "id": "wz2dNHEI0UcT",
        "colab_type": "text"
      },
      "source": [
        "# Data Prep"
      ]
    },
    {
      "cell_type": "code",
      "metadata": {
        "id": "SMrxdM_d0SxI",
        "colab_type": "code",
        "outputId": "306608e7-9a5e-4abe-d4dc-3d67ea098819",
        "colab": {
          "base_uri": "https://localhost:8080/",
          "height": 136
        }
      },
      "source": [
        "fv_series = pd.read_csv('/content/drive/My Drive/Colab Notebooks/re_project/data/Fountain_Valley.csv', header=None, index_col=0, parse_dates=True, squeeze=True)\n",
        "fv_series.head()"
      ],
      "execution_count": 5,
      "outputs": [
        {
          "output_type": "execute_result",
          "data": {
            "text/plain": [
              "0\n",
              "1996-04-01    219900.0\n",
              "1996-05-01    220000.0\n",
              "1996-06-01    220300.0\n",
              "1996-07-01    220500.0\n",
              "1996-08-01    220700.0\n",
              "Name: 1, dtype: float64"
            ]
          },
          "metadata": {
            "tags": []
          },
          "execution_count": 5
        }
      ]
    },
    {
      "cell_type": "code",
      "metadata": {
        "id": "hxek09IE0ZLB",
        "colab_type": "code",
        "outputId": "edb5f5b9-b3c7-4b46-ebc0-c7564105e484",
        "colab": {
          "base_uri": "https://localhost:8080/",
          "height": 34
        }
      },
      "source": [
        "SPLIT_POINT = len(fv_series) - 12\n",
        "dataset, validation = fv_series[0:SPLIT_POINT], fv_series[SPLIT_POINT:]\n",
        "print('Dataset %d, Validation %d' % (len(dataset), len(validation)))\n",
        "dataset.to_csv('dataset.csv')\n",
        "validation.to_csv('validation.csv')"
      ],
      "execution_count": 6,
      "outputs": [
        {
          "output_type": "stream",
          "text": [
            "Dataset 261, Validation 12\n"
          ],
          "name": "stdout"
        }
      ]
    },
    {
      "cell_type": "code",
      "metadata": {
        "id": "-RW94Opj0mof",
        "colab_type": "code",
        "outputId": "84b80750-8f0f-431d-ca84-fd6f1fb68dd4",
        "colab": {
          "base_uri": "https://localhost:8080/",
          "height": 153
        }
      },
      "source": [
        "series = pd.read_csv('/content/dataset.csv', header=None, index_col=0, parse_dates=True, squeeze=True)\n",
        "print(series.head())\n",
        "print(type(series))"
      ],
      "execution_count": 7,
      "outputs": [
        {
          "output_type": "stream",
          "text": [
            "0\n",
            "1996-04-01    219900.0\n",
            "1996-05-01    220000.0\n",
            "1996-06-01    220300.0\n",
            "1996-07-01    220500.0\n",
            "1996-08-01    220700.0\n",
            "Name: 1, dtype: float64\n",
            "<class 'pandas.core.series.Series'>\n"
          ],
          "name": "stdout"
        }
      ]
    },
    {
      "cell_type": "code",
      "metadata": {
        "id": "sr5R2NHT0tDe",
        "colab_type": "code",
        "colab": {}
      },
      "source": [
        "data = series.values"
      ],
      "execution_count": 0,
      "outputs": []
    },
    {
      "cell_type": "code",
      "metadata": {
        "id": "v8c1ngBV1BNj",
        "colab_type": "code",
        "outputId": "36e534be-27c6-4909-fd27-497ad9b7c159",
        "colab": {
          "base_uri": "https://localhost:8080/",
          "height": 51
        }
      },
      "source": [
        "train_size = int(len(data) * 0.7)\n",
        "train_mean = data[:train_size].mean()\n",
        "train_std = data[:train_size].std()\n",
        "print('Mean: ', train_mean)\n",
        "print('STD: ', train_std)"
      ],
      "execution_count": 9,
      "outputs": [
        {
          "output_type": "stream",
          "text": [
            "Mean:  475119.23076923075\n",
            "STD:  174514.1910330955\n"
          ],
          "name": "stdout"
        }
      ]
    },
    {
      "cell_type": "code",
      "metadata": {
        "id": "c4mVzHmO1Rpn",
        "colab_type": "code",
        "outputId": "c20d906f-ccb7-432c-c206-64071ecc86c4",
        "colab": {
          "base_uri": "https://localhost:8080/",
          "height": 34
        }
      },
      "source": [
        "std_data = (data - train_mean) / train_std\n",
        "std_data[:5]"
      ],
      "execution_count": 10,
      "outputs": [
        {
          "output_type": "execute_result",
          "data": {
            "text/plain": [
              "array([-1.46245546, -1.46188244, -1.46016338, -1.45901734, -1.4578713 ])"
            ]
          },
          "metadata": {
            "tags": []
          },
          "execution_count": 10
        }
      ]
    },
    {
      "cell_type": "code",
      "metadata": {
        "id": "H_80QzACoaAW",
        "colab_type": "code",
        "outputId": "5dd36995-4a77-401f-8890-79afe8e64106",
        "colab": {
          "base_uri": "https://localhost:8080/",
          "height": 34
        }
      },
      "source": [
        "print(type(std_data))"
      ],
      "execution_count": 11,
      "outputs": [
        {
          "output_type": "stream",
          "text": [
            "<class 'numpy.ndarray'>\n"
          ],
          "name": "stdout"
        }
      ]
    },
    {
      "cell_type": "markdown",
      "metadata": {
        "id": "Iu_J351C-FFU",
        "colab_type": "text"
      },
      "source": [
        "# Helper Functions"
      ]
    },
    {
      "cell_type": "code",
      "metadata": {
        "id": "8SFj1sjN1egH",
        "colab_type": "code",
        "colab": {}
      },
      "source": [
        "def windowedDataset(series, window_size, batch_size, shuffle_buffer):\n",
        "  dataset = tf.data.Dataset.from_tensor_slices(series)\n",
        "  dataset = dataset.window(window_size + 1, shift=1, drop_remainder=True)\n",
        "  dataset = dataset.flat_map(lambda window: window.batch(window_size + 1))\n",
        "  dataset = dataset.shuffle(shuffle_buffer).map(lambda window: (window[:-1], window[-1]))\n",
        "  dataset = dataset.batch(batch_size).prefetch(1)\n",
        "  return dataset"
      ],
      "execution_count": 0,
      "outputs": []
    },
    {
      "cell_type": "code",
      "metadata": {
        "id": "-mOAamZk-N-X",
        "colab_type": "code",
        "colab": {}
      },
      "source": [
        "def plot_series(time, series, format=\"-\", start=0, end=None):\n",
        "    plt.plot(time[start:end], series[start:end], format)\n",
        "    plt.xlabel(\"Time\")\n",
        "    plt.ylabel(\"Value\")\n",
        "    plt.grid(True)"
      ],
      "execution_count": 0,
      "outputs": []
    },
    {
      "cell_type": "code",
      "metadata": {
        "id": "LJkTNDj9-Rhe",
        "colab_type": "code",
        "colab": {}
      },
      "source": [
        "def makeForecast(model, X, train_size, window_size, time_valid, x_valid):\n",
        "  forecast = []\n",
        "\n",
        "  for time in range(len(X) - window_size):\n",
        "    forecast.append(model.predict(X[time:time + window_size][np.newaxis]))\n",
        "\n",
        "  forecast = forecast[train_size-window_size:]\n",
        "  results = np.array(forecast)[:, 0, 0]\n",
        "\n",
        "  plt.figure(figsize=(10, 6))\n",
        "  plot_series(time_valid, x_valid)\n",
        "  plot_series(time_valid, results)\n",
        "\n",
        "  return results"
      ],
      "execution_count": 0,
      "outputs": []
    },
    {
      "cell_type": "code",
      "metadata": {
        "id": "J48cuHAAYGrw",
        "colab_type": "code",
        "colab": {}
      },
      "source": [
        "def modelForecast(model, series, window_size):\n",
        "  ds = tf.data.Dataset.from_tensor_slices(series)\n",
        "  ds = ds.window(window_size, shift=1, drop_remainder=True)\n",
        "  ds = ds.flat_map(lambda w: w.batch(window_size))\n",
        "  ds = ds.batch(7).prefetch(1)\n",
        "  forecast = model.predict(ds)\n",
        "  return forecast"
      ],
      "execution_count": 0,
      "outputs": []
    },
    {
      "cell_type": "code",
      "metadata": {
        "id": "KNsPSr-C-Unt",
        "colab_type": "code",
        "colab": {}
      },
      "source": [
        "x_train, x_valid = std_data[0:train_size], std_data[train_size:]\n",
        "time = np.arange(len(std_data), dtype=\"float32\")\n",
        "time_train, time_valid = time[0:train_size], time[train_size:]"
      ],
      "execution_count": 0,
      "outputs": []
    },
    {
      "cell_type": "code",
      "metadata": {
        "id": "ty6BtjK0oxh6",
        "colab_type": "code",
        "outputId": "16229e3b-e3c2-479f-f62f-b6b7b8cc5278",
        "colab": {
          "base_uri": "https://localhost:8080/",
          "height": 51
        }
      },
      "source": [
        "print(type(x_train))\n",
        "print(x_train.shape)"
      ],
      "execution_count": 17,
      "outputs": [
        {
          "output_type": "stream",
          "text": [
            "<class 'numpy.ndarray'>\n",
            "(182,)\n"
          ],
          "name": "stdout"
        }
      ]
    },
    {
      "cell_type": "code",
      "metadata": {
        "id": "8oS_hjco-7c5",
        "colab_type": "code",
        "outputId": "c80605d6-cf08-4fbb-e0e6-b896739d1c1e",
        "colab": {
          "base_uri": "https://localhost:8080/",
          "height": 34
        }
      },
      "source": [
        "window_size = 12\n",
        "batch_size = 7\n",
        "shuffle_buffer_size = 100\n",
        "\n",
        "dataset = windowedDataset(x_train, window_size, batch_size, shuffle_buffer_size)\n",
        "print(dataset)"
      ],
      "execution_count": 18,
      "outputs": [
        {
          "output_type": "stream",
          "text": [
            "<PrefetchDataset shapes: ((None, None), (None,)), types: (tf.float64, tf.float64)>\n"
          ],
          "name": "stdout"
        }
      ]
    },
    {
      "cell_type": "code",
      "metadata": {
        "id": "WBfpxtzoBEfi",
        "colab_type": "code",
        "colab": {}
      },
      "source": [
        "scores = {}"
      ],
      "execution_count": 0,
      "outputs": []
    },
    {
      "cell_type": "markdown",
      "metadata": {
        "id": "xsPJYVKfHQOU",
        "colab_type": "text"
      },
      "source": [
        "# Single Neuron Network"
      ]
    },
    {
      "cell_type": "code",
      "metadata": {
        "id": "71NGZIQX_ZUN",
        "colab_type": "code",
        "outputId": "f43ac5fe-84d2-472c-ce05-45139c54988d",
        "colab": {
          "base_uri": "https://localhost:8080/",
          "height": 221
        }
      },
      "source": [
        "l0 = tf.keras.layers.Dense(1, input_shape=[window_size])\n",
        "model = tf.keras.models.Sequential([l0])\n",
        "model.compile(loss='mae', optimizer='adam', metrics=['mae'])\n",
        "model.fit(dataset, epochs=300, verbose=0)\n",
        "\n",
        "print(\"Layer weights {}\".format(l0.get_weights()))"
      ],
      "execution_count": 20,
      "outputs": [
        {
          "output_type": "stream",
          "text": [
            "Layer weights [array([[-0.49917945],\n",
            "       [ 0.4704702 ],\n",
            "       [ 0.08879475],\n",
            "       [ 0.49924684],\n",
            "       [-0.56987417],\n",
            "       [-0.5494476 ],\n",
            "       [-0.10571708],\n",
            "       [ 0.5535238 ],\n",
            "       [-0.2733723 ],\n",
            "       [ 0.19506486],\n",
            "       [ 1.0744554 ],\n",
            "       [ 0.11184766]], dtype=float32), array([-0.00108253], dtype=float32)]\n"
          ],
          "name": "stdout"
        }
      ]
    },
    {
      "cell_type": "code",
      "metadata": {
        "id": "VzkIeEpLBW_p",
        "colab_type": "code",
        "outputId": "f20f8e09-e11f-410a-de11-03bba7291e25",
        "colab": {
          "base_uri": "https://localhost:8080/",
          "height": 388
        }
      },
      "source": [
        "results = makeForecast(model, std_data, train_size, window_size, time_valid, x_valid)"
      ],
      "execution_count": 21,
      "outputs": [
        {
          "output_type": "display_data",
          "data": {
            "image/png": "[encoded data removed]",
            "text/plain": [
              "<Figure size 720x432 with 1 Axes>"
            ]
          },
          "metadata": {
            "tags": []
          }
        }
      ]
    },
    {
      "cell_type": "code",
      "metadata": {
        "id": "kHHi__xVFVs9",
        "colab_type": "code",
        "colab": {}
      },
      "source": [
        "score = tf.keras.metrics.mean_absolute_error(x_valid, results).numpy()"
      ],
      "execution_count": 0,
      "outputs": []
    },
    {
      "cell_type": "code",
      "metadata": {
        "id": "AEPpDgRbGcZz",
        "colab_type": "code",
        "outputId": "333b2f82-91d8-40ce-8e22-6292f65f17b1",
        "colab": {
          "base_uri": "https://localhost:8080/",
          "height": 34
        }
      },
      "source": [
        "scores['SNN'] = score\n",
        "print(scores)"
      ],
      "execution_count": 23,
      "outputs": [
        {
          "output_type": "stream",
          "text": [
            "{'SNN': 0.024300091}\n"
          ],
          "name": "stdout"
        }
      ]
    },
    {
      "cell_type": "markdown",
      "metadata": {
        "id": "zWrW4zajBOJR",
        "colab_type": "text"
      },
      "source": [
        "# DNN"
      ]
    },
    {
      "cell_type": "code",
      "metadata": {
        "id": "Oilrt10TBMiw",
        "colab_type": "code",
        "colab": {}
      },
      "source": [
        "model = tf.keras.models.Sequential([\n",
        "  tf.keras.layers.Dense(12, input_shape=[window_size], activation='relu'),\n",
        "  tf.keras.layers.Dense(12, activation='relu'),\n",
        "  tf.keras.layers.Dense(1)\n",
        "])\n",
        "lr_scheduler = tf.keras.callbacks.LearningRateScheduler(lambda epoch: 1e-6 * 10**(epoch/20))\n",
        "optimizer = tf.keras.optimizers.SGD(lr=1e-6, momentum=0.9)\n",
        "model.compile(loss='mae', optimizer=optimizer)\n",
        "history = model.fit(dataset, epochs=100, callbacks=[lr_scheduler], verbose=0)"
      ],
      "execution_count": 0,
      "outputs": []
    },
    {
      "cell_type": "code",
      "metadata": {
        "id": "fZMU9ubTGdFk",
        "colab_type": "code",
        "outputId": "f3f0fea1-053d-44e5-c012-9297c8e24f6a",
        "colab": {
          "base_uri": "https://localhost:8080/",
          "height": 290
        }
      },
      "source": [
        "lrs = 1e-8 * (10 ** (np.arange(100) / 20))\n",
        "plt.semilogx(lrs, history.history[\"loss\"])\n",
        "plt.axis([1e-5, 1e-3, -1, 1])"
      ],
      "execution_count": 25,
      "outputs": [
        {
          "output_type": "execute_result",
          "data": {
            "text/plain": [
              "[1e-05, 0.001, -1, 1]"
            ]
          },
          "metadata": {
            "tags": []
          },
          "execution_count": 25
        },
        {
          "output_type": "display_data",
          "data": {
            "image/png": "[encoded data removed]",
            "text/plain": [
              "<Figure size 432x288 with 1 Axes>"
            ]
          },
          "metadata": {
            "tags": []
          }
        }
      ]
    },
    {
      "cell_type": "code",
      "metadata": {
        "id": "iM4NTSvfGnwU",
        "colab_type": "code",
        "outputId": "c473b7b5-34cb-40fe-f6c4-237f2647cfe2",
        "colab": {
          "base_uri": "https://localhost:8080/",
          "height": 34
        }
      },
      "source": [
        "model = tf.keras.models.Sequential([\n",
        "  tf.keras.layers.Dense(12, input_shape=[window_size], activation='relu'),\n",
        "  tf.keras.layers.Dense(12, activation='relu'),\n",
        "  tf.keras.layers.Dense(1)\n",
        "])\n",
        "optimizer = tf.keras.optimizers.SGD(lr=9e-3, momentum=0.9)\n",
        "model.compile(loss='mae', optimizer=optimizer)\n",
        "model.fit(dataset, epochs=300, verbose=0)"
      ],
      "execution_count": 26,
      "outputs": [
        {
          "output_type": "execute_result",
          "data": {
            "text/plain": [
              "<tensorflow.python.keras.callbacks.History at 0x7f0fdedb2ac8>"
            ]
          },
          "metadata": {
            "tags": []
          },
          "execution_count": 26
        }
      ]
    },
    {
      "cell_type": "code",
      "metadata": {
        "id": "eRTCtlB2Hl1c",
        "colab_type": "code",
        "outputId": "f3adaeb3-c812-4db7-b11c-61a25e0b456d",
        "colab": {
          "base_uri": "https://localhost:8080/",
          "height": 388
        }
      },
      "source": [
        "results = makeForecast(model, std_data, train_size, window_size, time_valid, x_valid)"
      ],
      "execution_count": 27,
      "outputs": [
        {
          "output_type": "display_data",
          "data": {
            "image/png": "[encoded data removed]",
            "text/plain": [
              "<Figure size 720x432 with 1 Axes>"
            ]
          },
          "metadata": {
            "tags": []
          }
        }
      ]
    },
    {
      "cell_type": "code",
      "metadata": {
        "id": "-rnrV0clHtsL",
        "colab_type": "code",
        "colab": {}
      },
      "source": [
        "score = tf.keras.metrics.mean_absolute_error(x_valid, results).numpy()"
      ],
      "execution_count": 0,
      "outputs": []
    },
    {
      "cell_type": "code",
      "metadata": {
        "id": "cKmmRHvcH3H6",
        "colab_type": "code",
        "outputId": "1bbdf711-cc0c-40e0-968d-17c9ee078e85",
        "colab": {
          "base_uri": "https://localhost:8080/",
          "height": 34
        }
      },
      "source": [
        "scores['DNN'] = score\n",
        "print(scores)"
      ],
      "execution_count": 29,
      "outputs": [
        {
          "output_type": "stream",
          "text": [
            "{'SNN': 0.024300091, 'DNN': 0.040841855}\n"
          ],
          "name": "stdout"
        }
      ]
    },
    {
      "cell_type": "markdown",
      "metadata": {
        "id": "NMVPA55jJNr3",
        "colab_type": "text"
      },
      "source": [
        "# Simple LSTM model"
      ]
    },
    {
      "cell_type": "code",
      "metadata": {
        "id": "2pm-jXPlH7Kh",
        "colab_type": "code",
        "outputId": "fa82c6cb-7b24-4542-c439-6b76a0f78e97",
        "colab": {
          "base_uri": "https://localhost:8080/",
          "height": 34
        }
      },
      "source": [
        "model = tf.keras.models.Sequential([\n",
        "  tf.keras.layers.Lambda(lambda x: tf.expand_dims(x, axis=-1), input_shape=[None]),\n",
        "  tf.keras.layers.LSTM(12, input_shape=[window_size]),\n",
        "  tf.keras.layers.Dense(1)\n",
        "])\n",
        "model.compile(loss='mae', optimizer='adam')\n",
        "model.fit(dataset, epochs=300, verbose=0)"
      ],
      "execution_count": 30,
      "outputs": [
        {
          "output_type": "execute_result",
          "data": {
            "text/plain": [
              "<tensorflow.python.keras.callbacks.History at 0x7f0fdcbd7ba8>"
            ]
          },
          "metadata": {
            "tags": []
          },
          "execution_count": 30
        }
      ]
    },
    {
      "cell_type": "code",
      "metadata": {
        "id": "GJMyj8glJpcT",
        "colab_type": "code",
        "outputId": "973b6575-b8c2-4aa2-ff72-24df306c2ef4",
        "colab": {
          "base_uri": "https://localhost:8080/",
          "height": 388
        }
      },
      "source": [
        "results = makeForecast(model, std_data, train_size, window_size, time_valid, x_valid)"
      ],
      "execution_count": 31,
      "outputs": [
        {
          "output_type": "display_data",
          "data": {
            "image/png": "[encoded data removed]",
            "text/plain": [
              "<Figure size 720x432 with 1 Axes>"
            ]
          },
          "metadata": {
            "tags": []
          }
        }
      ]
    },
    {
      "cell_type": "code",
      "metadata": {
        "id": "V8aFP1m1J2j5",
        "colab_type": "code",
        "outputId": "ce663a45-7c85-4d1e-c11c-08199443cfe4",
        "colab": {
          "base_uri": "https://localhost:8080/",
          "height": 34
        }
      },
      "source": [
        "score = tf.keras.metrics.mean_absolute_error(x_valid, results).numpy()\n",
        "scores['Single LSTM'] = score\n",
        "print(scores)"
      ],
      "execution_count": 32,
      "outputs": [
        {
          "output_type": "stream",
          "text": [
            "{'SNN': 0.024300091, 'DNN': 0.040841855, 'Single LSTM': 0.017324826}\n"
          ],
          "name": "stdout"
        }
      ]
    },
    {
      "cell_type": "markdown",
      "metadata": {
        "id": "eYXml1FJL2jx",
        "colab_type": "text"
      },
      "source": [
        "# RNN"
      ]
    },
    {
      "cell_type": "code",
      "metadata": {
        "id": "hZUluShXKmlz",
        "colab_type": "code",
        "colab": {}
      },
      "source": [
        "model = tf.keras.models.Sequential([\n",
        "  tf.keras.layers.Lambda(lambda x: tf.expand_dims(x, axis=-1), input_shape=[None]),\n",
        "  tf.keras.layers.SimpleRNN(24, return_sequences=True),\n",
        "  tf.keras.layers.SimpleRNN(24),\n",
        "  tf.keras.layers.Dense(1)\n",
        "])\n",
        "\n",
        "lr_schedule = tf.keras.callbacks.LearningRateScheduler(lambda epoch: 1e-6 * 10**(epoch / 20))\n",
        "optimizer = tf.keras.optimizers.SGD(lr=1e-6, momentum=0.9)\n",
        "model.compile(loss='mae', optimizer=optimizer)\n",
        "history = model.fit(dataset, epochs=100, callbacks=[lr_schedule], verbose=0)"
      ],
      "execution_count": 0,
      "outputs": []
    },
    {
      "cell_type": "code",
      "metadata": {
        "id": "g3xwj8KOMLgu",
        "colab_type": "code",
        "outputId": "78acee85-a970-4709-a501-fbd4c5e69b96",
        "colab": {
          "base_uri": "https://localhost:8080/",
          "height": 290
        }
      },
      "source": [
        "lrs = 1e-8 * (10 ** (np.arange(100) / 20))\n",
        "plt.semilogx(lrs, history.history[\"loss\"])\n",
        "plt.axis([1e-5, 1e-3, -0.1, 1])"
      ],
      "execution_count": 34,
      "outputs": [
        {
          "output_type": "execute_result",
          "data": {
            "text/plain": [
              "[1e-05, 0.001, -0.1, 1]"
            ]
          },
          "metadata": {
            "tags": []
          },
          "execution_count": 34
        },
        {
          "output_type": "display_data",
          "data": {
            "image/png": "[encoded data removed]",
            "text/plain": [
              "<Figure size 432x288 with 1 Axes>"
            ]
          },
          "metadata": {
            "tags": []
          }
        }
      ]
    },
    {
      "cell_type": "code",
      "metadata": {
        "id": "_aeIN7toMWM8",
        "colab_type": "code",
        "outputId": "f5dbd7da-4f0e-4c31-864e-ae4ed70cbf07",
        "colab": {
          "base_uri": "https://localhost:8080/",
          "height": 34
        }
      },
      "source": [
        "model = tf.keras.models.Sequential([\n",
        "  tf.keras.layers.Lambda(lambda x: tf.expand_dims(x, axis=-1), input_shape=[None]),\n",
        "  tf.keras.layers.SimpleRNN(24, return_sequences=True),\n",
        "  tf.keras.layers.SimpleRNN(24),\n",
        "  tf.keras.layers.Dense(1)\n",
        "])\n",
        "\n",
        "optimizer = tf.keras.optimizers.SGD(lr=9e-3, momentum=0.9)\n",
        "model.compile(loss='mae', optimizer=optimizer)\n",
        "model.fit(dataset, epochs=300, verbose=0)"
      ],
      "execution_count": 35,
      "outputs": [
        {
          "output_type": "execute_result",
          "data": {
            "text/plain": [
              "<tensorflow.python.keras.callbacks.History at 0x7f0fdb4d5cf8>"
            ]
          },
          "metadata": {
            "tags": []
          },
          "execution_count": 35
        }
      ]
    },
    {
      "cell_type": "code",
      "metadata": {
        "id": "t0wwTdkOM1WZ",
        "colab_type": "code",
        "outputId": "df6b294a-5442-4a85-fb73-c788f9c6dbaa",
        "colab": {
          "base_uri": "https://localhost:8080/",
          "height": 388
        }
      },
      "source": [
        "results = makeForecast(model, std_data, train_size, window_size, time_valid, x_valid)"
      ],
      "execution_count": 36,
      "outputs": [
        {
          "output_type": "display_data",
          "data": {
            "image/png": "[encoded data removed]",
            "text/plain": [
              "<Figure size 720x432 with 1 Axes>"
            ]
          },
          "metadata": {
            "tags": []
          }
        }
      ]
    },
    {
      "cell_type": "code",
      "metadata": {
        "id": "Ss7gSdKiNCuu",
        "colab_type": "code",
        "outputId": "36ea08b1-a0a5-4c76-c09b-7172e8c799fc",
        "colab": {
          "base_uri": "https://localhost:8080/",
          "height": 34
        }
      },
      "source": [
        "score = tf.keras.metrics.mean_absolute_error(x_valid, results).numpy()\n",
        "scores['RNN'] = score\n",
        "print(scores)"
      ],
      "execution_count": 37,
      "outputs": [
        {
          "output_type": "stream",
          "text": [
            "{'SNN': 0.024300091, 'DNN': 0.040841855, 'Single LSTM': 0.017324826, 'RNN': 0.018095529}\n"
          ],
          "name": "stdout"
        }
      ]
    },
    {
      "cell_type": "code",
      "metadata": {
        "id": "Z63BFMF5NIBv",
        "colab_type": "code",
        "outputId": "c1552e40-db9c-4cfe-8090-ccb3ffde2427",
        "colab": {
          "base_uri": "https://localhost:8080/",
          "height": 34
        }
      },
      "source": [
        "model = tf.keras.models.Sequential([\n",
        "  tf.keras.layers.Lambda(lambda x: tf.expand_dims(x, axis=-1), input_shape=[None]),\n",
        "  tf.keras.layers.SimpleRNN(24, return_sequences=True),\n",
        "  tf.keras.layers.SimpleRNN(24),\n",
        "  tf.keras.layers.Dense(1)\n",
        "])\n",
        "\n",
        "model.compile(loss='mae', optimizer='adam')\n",
        "model.fit(dataset, epochs=300, verbose=0)"
      ],
      "execution_count": 38,
      "outputs": [
        {
          "output_type": "execute_result",
          "data": {
            "text/plain": [
              "<tensorflow.python.keras.callbacks.History at 0x7f0fe589d160>"
            ]
          },
          "metadata": {
            "tags": []
          },
          "execution_count": 38
        }
      ]
    },
    {
      "cell_type": "code",
      "metadata": {
        "id": "nPaQ7NlOOTO1",
        "colab_type": "code",
        "outputId": "0171436f-b1ba-4dbe-e0f7-f503f199fd04",
        "colab": {
          "base_uri": "https://localhost:8080/",
          "height": 388
        }
      },
      "source": [
        "results = makeForecast(model, std_data, train_size, window_size, time_valid, x_valid)"
      ],
      "execution_count": 39,
      "outputs": [
        {
          "output_type": "display_data",
          "data": {
            "image/png": "[encoded data removed]",
            "text/plain": [
              "<Figure size 720x432 with 1 Axes>"
            ]
          },
          "metadata": {
            "tags": []
          }
        }
      ]
    },
    {
      "cell_type": "code",
      "metadata": {
        "id": "WWmkHprGOjAa",
        "colab_type": "code",
        "outputId": "91e46793-69ac-4923-df98-86846c11c4e2",
        "colab": {
          "base_uri": "https://localhost:8080/",
          "height": 34
        }
      },
      "source": [
        "score = tf.keras.metrics.mean_absolute_error(x_valid, results).numpy()\n",
        "scores['RNN w. adam optimizer'] = score\n",
        "print(scores)"
      ],
      "execution_count": 40,
      "outputs": [
        {
          "output_type": "stream",
          "text": [
            "{'SNN': 0.024300091, 'DNN': 0.040841855, 'Single LSTM': 0.017324826, 'RNN': 0.018095529, 'RNN w. adam optimizer': 0.011890224}\n"
          ],
          "name": "stdout"
        }
      ]
    },
    {
      "cell_type": "markdown",
      "metadata": {
        "id": "F-LhQhkHO4-N",
        "colab_type": "text"
      },
      "source": [
        "# Bidirectional LSTM"
      ]
    },
    {
      "cell_type": "code",
      "metadata": {
        "id": "doBCdX_SOsjB",
        "colab_type": "code",
        "outputId": "07295e3c-0aa4-466c-9141-85a9d0ac0234",
        "colab": {
          "base_uri": "https://localhost:8080/",
          "height": 34
        }
      },
      "source": [
        "model = tf.keras.models.Sequential([\n",
        "  tf.keras.layers.Lambda(lambda x: tf.expand_dims(x, axis=-1), input_shape=[None]),\n",
        "  tf.keras.layers.Bidirectional(tf.keras.layers.LSTM(24, return_sequences=True)),\n",
        "  tf.keras.layers.Bidirectional(tf.keras.layers.LSTM(24)),\n",
        "  tf.keras.layers.Dense(1)\n",
        "])\n",
        "model.compile(loss='mae', optimizer='adam')\n",
        "model.fit(dataset, epochs=300, verbose=0)"
      ],
      "execution_count": 41,
      "outputs": [
        {
          "output_type": "execute_result",
          "data": {
            "text/plain": [
              "<tensorflow.python.keras.callbacks.History at 0x7f0fd93acf60>"
            ]
          },
          "metadata": {
            "tags": []
          },
          "execution_count": 41
        }
      ]
    },
    {
      "cell_type": "code",
      "metadata": {
        "id": "3sa5jPJtPHAj",
        "colab_type": "code",
        "outputId": "f18d7863-6b34-4850-91fe-5640d1dda970",
        "colab": {
          "base_uri": "https://localhost:8080/",
          "height": 388
        }
      },
      "source": [
        "results = makeForecast(model, std_data, train_size, window_size, time_valid, x_valid)"
      ],
      "execution_count": 42,
      "outputs": [
        {
          "output_type": "display_data",
          "data": {
            "image/png": "[encoded data removed]",
            "text/plain": [
              "<Figure size 720x432 with 1 Axes>"
            ]
          },
          "metadata": {
            "tags": []
          }
        }
      ]
    },
    {
      "cell_type": "code",
      "metadata": {
        "id": "GgEHBUqTPphp",
        "colab_type": "code",
        "outputId": "7cbdb665-4be0-4570-813a-34b4de53ad01",
        "colab": {
          "base_uri": "https://localhost:8080/",
          "height": 34
        }
      },
      "source": [
        "score = tf.keras.metrics.mean_absolute_error(x_valid, results).numpy()\n",
        "scores['Bidrectional LSTM w. adam'] = score\n",
        "print(scores)"
      ],
      "execution_count": 43,
      "outputs": [
        {
          "output_type": "stream",
          "text": [
            "{'SNN': 0.024300091, 'DNN': 0.040841855, 'Single LSTM': 0.017324826, 'RNN': 0.018095529, 'RNN w. adam optimizer': 0.011890224, 'Bidrectional LSTM w. adam': 0.043607537}\n"
          ],
          "name": "stdout"
        }
      ]
    },
    {
      "cell_type": "code",
      "metadata": {
        "id": "sHRK4gjPPyAY",
        "colab_type": "code",
        "outputId": "407d98d3-1c21-417d-e297-d22299e2a9e8",
        "colab": {
          "base_uri": "https://localhost:8080/",
          "height": 34
        }
      },
      "source": [
        "model = tf.keras.models.Sequential([\n",
        "  tf.keras.layers.Lambda(lambda x: tf.expand_dims(x, axis=-1), input_shape=[None]),\n",
        "  tf.keras.layers.Bidirectional(tf.keras.layers.LSTM(24, return_sequences=True)),\n",
        "  tf.keras.layers.Bidirectional(tf.keras.layers.LSTM(24)),\n",
        "  tf.keras.layers.Dense(1)\n",
        "])\n",
        "optimizer = tf.keras.optimizers.SGD(lr=1e-6, momentum=0.9)\n",
        "lr_schedule = tf.keras.callbacks.LearningRateScheduler(lambda epoch: 1e-6 * 100**(epoch/20))\n",
        "model.compile(loss='mae', optimizer=optimizer)\n",
        "model.fit(dataset, epochs=300, verbose=0, callbacks=[lr_schedule])"
      ],
      "execution_count": 44,
      "outputs": [
        {
          "output_type": "execute_result",
          "data": {
            "text/plain": [
              "<tensorflow.python.keras.callbacks.History at 0x7f0fd72403c8>"
            ]
          },
          "metadata": {
            "tags": []
          },
          "execution_count": 44
        }
      ]
    },
    {
      "cell_type": "code",
      "metadata": {
        "id": "lYj78NMjQRpl",
        "colab_type": "code",
        "outputId": "e83215de-c499-4f55-fecb-b17488a48857",
        "colab": {
          "base_uri": "https://localhost:8080/",
          "height": 290
        }
      },
      "source": [
        "lrs = 1e-8 * (10 ** (np.arange(100) / 20))\n",
        "plt.semilogx(lrs, history.history[\"loss\"])\n",
        "plt.axis([1e-5, 1e-3, -0.1, 1])"
      ],
      "execution_count": 45,
      "outputs": [
        {
          "output_type": "execute_result",
          "data": {
            "text/plain": [
              "[1e-05, 0.001, -0.1, 1]"
            ]
          },
          "metadata": {
            "tags": []
          },
          "execution_count": 45
        },
        {
          "output_type": "display_data",
          "data": {
            "image/png": "[encoded data removed]",
            "text/plain": [
              "<Figure size 432x288 with 1 Axes>"
            ]
          },
          "metadata": {
            "tags": []
          }
        }
      ]
    },
    {
      "cell_type": "code",
      "metadata": {
        "id": "jEcxw29bRt4Z",
        "colab_type": "code",
        "outputId": "67617c17-55a3-43ce-e8a6-b9489ca3d6b6",
        "colab": {
          "base_uri": "https://localhost:8080/",
          "height": 34
        }
      },
      "source": [
        "model = tf.keras.models.Sequential([\n",
        "  tf.keras.layers.Lambda(lambda x: tf.expand_dims(x, axis=-1), input_shape=[None]),\n",
        "  tf.keras.layers.Bidirectional(tf.keras.layers.LSTM(24, return_sequences=True)),\n",
        "  tf.keras.layers.Bidirectional(tf.keras.layers.LSTM(24)),\n",
        "  tf.keras.layers.Dense(1)\n",
        "])\n",
        "optimizer = tf.keras.optimizers.SGD(lr=5e-4, momentum=0.9)\n",
        "model.compile(loss='mae', optimizer=optimizer)\n",
        "model.fit(dataset, epochs=300, verbose=0)"
      ],
      "execution_count": 46,
      "outputs": [
        {
          "output_type": "execute_result",
          "data": {
            "text/plain": [
              "<tensorflow.python.keras.callbacks.History at 0x7f0fd560e978>"
            ]
          },
          "metadata": {
            "tags": []
          },
          "execution_count": 46
        }
      ]
    },
    {
      "cell_type": "code",
      "metadata": {
        "id": "gRqP71rWSAvn",
        "colab_type": "code",
        "outputId": "6072ff18-82a1-480a-a09c-ea441c1b0a60",
        "colab": {
          "base_uri": "https://localhost:8080/",
          "height": 388
        }
      },
      "source": [
        "results = makeForecast(model, std_data, train_size, window_size, time_valid, x_valid)"
      ],
      "execution_count": 47,
      "outputs": [
        {
          "output_type": "display_data",
          "data": {
            "image/png": "[encoded data removed]",
            "text/plain": [
              "<Figure size 720x432 with 1 Axes>"
            ]
          },
          "metadata": {
            "tags": []
          }
        }
      ]
    },
    {
      "cell_type": "code",
      "metadata": {
        "id": "OaVx4_HdT5ao",
        "colab_type": "code",
        "outputId": "65ecf830-e486-49cd-c3f0-16a72edab8f9",
        "colab": {
          "base_uri": "https://localhost:8080/",
          "height": 34
        }
      },
      "source": [
        "score = tf.keras.metrics.mean_absolute_error(x_valid, results).numpy()\n",
        "scores['Bidrectional LSTM w. sgd'] = score\n",
        "print(scores)"
      ],
      "execution_count": 48,
      "outputs": [
        {
          "output_type": "stream",
          "text": [
            "{'SNN': 0.024300091, 'DNN': 0.040841855, 'Single LSTM': 0.017324826, 'RNN': 0.018095529, 'RNN w. adam optimizer': 0.011890224, 'Bidrectional LSTM w. adam': 0.043607537, 'Bidrectional LSTM w. sgd': 0.07728435}\n"
          ],
          "name": "stdout"
        }
      ]
    },
    {
      "cell_type": "markdown",
      "metadata": {
        "id": "jxCDaDGuWFOn",
        "colab_type": "text"
      },
      "source": [
        "# Final model - RNN with adam optimizer"
      ]
    },
    {
      "cell_type": "code",
      "metadata": {
        "id": "F6SBDyy8U_9O",
        "colab_type": "code",
        "colab": {}
      },
      "source": [
        "best_model = tf.keras.models.Sequential([\n",
        "  tf.keras.layers.Lambda(lambda x: tf.expand_dims(x, axis=-1), input_shape=[None]),\n",
        "  tf.keras.layers.SimpleRNN(24, return_sequences=True),\n",
        "  tf.keras.layers.SimpleRNN(24),\n",
        "  tf.keras.layers.Dense(1)\n",
        "])\n",
        "\n",
        "best_model.compile(loss='mae', optimizer='adam')"
      ],
      "execution_count": 0,
      "outputs": []
    },
    {
      "cell_type": "code",
      "metadata": {
        "id": "q1FJB22AEaHT",
        "colab_type": "code",
        "colab": {}
      },
      "source": [
        "final_hist = best_model.fit(dataset, epochs=300, verbose=0)"
      ],
      "execution_count": 0,
      "outputs": []
    },
    {
      "cell_type": "code",
      "metadata": {
        "id": "5skxJOiiWrC4",
        "colab_type": "code",
        "colab": {}
      },
      "source": [
        "test_series = pd.read_csv('/content/validation.csv', header=None, index_col=0, parse_dates=True, squeeze=True)"
      ],
      "execution_count": 0,
      "outputs": []
    },
    {
      "cell_type": "code",
      "metadata": {
        "id": "VC6Fur88Xoss",
        "colab_type": "code",
        "outputId": "8fb6a34f-29e1-4168-fe4e-647da73a9dc2",
        "colab": {
          "base_uri": "https://localhost:8080/",
          "height": 136
        }
      },
      "source": [
        "test_series.head()"
      ],
      "execution_count": 89,
      "outputs": [
        {
          "output_type": "execute_result",
          "data": {
            "text/plain": [
              "0\n",
              "2018-01-01    792900.0\n",
              "2018-02-01    798300.0\n",
              "2018-03-01    801600.0\n",
              "2018-04-01    803700.0\n",
              "2018-05-01    806200.0\n",
              "Name: 1, dtype: float64"
            ]
          },
          "metadata": {
            "tags": []
          },
          "execution_count": 89
        }
      ]
    },
    {
      "cell_type": "code",
      "metadata": {
        "id": "fSUNaIc2XqGB",
        "colab_type": "code",
        "colab": {}
      },
      "source": [
        "test_data = test_series.values"
      ],
      "execution_count": 0,
      "outputs": []
    },
    {
      "cell_type": "code",
      "metadata": {
        "id": "dz2IkE3OrKfG",
        "colab_type": "code",
        "outputId": "4f036bef-567f-4166-a972-178529e37195",
        "colab": {
          "base_uri": "https://localhost:8080/",
          "height": 51
        }
      },
      "source": [
        "print(test_data)"
      ],
      "execution_count": 91,
      "outputs": [
        {
          "output_type": "stream",
          "text": [
            "[792900. 798300. 801600. 803700. 806200. 809800. 813900. 818100. 818300.\n",
            " 817500. 817300. 819000.]\n"
          ],
          "name": "stdout"
        }
      ]
    },
    {
      "cell_type": "code",
      "metadata": {
        "id": "73JqdnSarX6v",
        "colab_type": "code",
        "outputId": "90cc17e9-57da-4c95-a87a-0fc5d48f60a9",
        "colab": {
          "base_uri": "https://localhost:8080/",
          "height": 51
        }
      },
      "source": [
        "std_test_data = (test_data - train_mean) / train_std\n",
        "print(std_test_data)"
      ],
      "execution_count": 92,
      "outputs": [
        {
          "output_type": "stream",
          "text": [
            "[1.82094515 1.85188819 1.87079783 1.88283123 1.89715671 1.91778541\n",
            " 1.9412792  1.96534601 1.96649205 1.9619079  1.96076186 1.97050318]\n"
          ],
          "name": "stdout"
        }
      ]
    },
    {
      "cell_type": "code",
      "metadata": {
        "id": "ryKCsG48rkKy",
        "colab_type": "code",
        "colab": {}
      },
      "source": [
        "# np.insert(std_test_data, 0, std_data[-1])\n",
        "# std_test_data = std_test_data[:-1]\n",
        "# print(std_test_data)"
      ],
      "execution_count": 0,
      "outputs": []
    },
    {
      "cell_type": "code",
      "metadata": {
        "id": "nG7tyLg0hxN9",
        "colab_type": "code",
        "outputId": "e7fe136c-22b2-494c-edd0-97707f1d7997",
        "colab": {
          "base_uri": "https://localhost:8080/",
          "height": 51
        }
      },
      "source": [
        "processed_test_data = np.asarray(std_test_data)\n",
        "print(type(processed_test_data))\n",
        "print(processed_test_data.shape)\n",
        "# print(dataset.shape)\n",
        "windowed_test_data = windowedDataset(processed_test_data, window_size, batch_size, shuffle_buffer_size)"
      ],
      "execution_count": 81,
      "outputs": [
        {
          "output_type": "stream",
          "text": [
            "<class 'numpy.ndarray'>\n",
            "(12,)\n"
          ],
          "name": "stdout"
        }
      ]
    },
    {
      "cell_type": "code",
      "metadata": {
        "id": "1bquxteMBk_w",
        "colab_type": "code",
        "colab": {
          "base_uri": "https://localhost:8080/",
          "height": 51
        },
        "outputId": "2bb45a00-1dbd-4d5f-f9df-7a964e15ee65"
      },
      "source": [
        "print(windowed_test_data)\n",
        "print(dataset)"
      ],
      "execution_count": 66,
      "outputs": [
        {
          "output_type": "stream",
          "text": [
            "<PrefetchDataset shapes: ((None, None), (None,)), types: (tf.float64, tf.float64)>\n",
            "<PrefetchDataset shapes: ((None, None), (None,)), types: (tf.float64, tf.float64)>\n"
          ],
          "name": "stdout"
        }
      ]
    },
    {
      "cell_type": "code",
      "metadata": {
        "id": "EmglXcpKi8Ao",
        "colab_type": "code",
        "colab": {}
      },
      "source": [
        "for t in windowed_test_data:\n",
        "  print(t.numpy())"
      ],
      "execution_count": 0,
      "outputs": []
    },
    {
      "cell_type": "code",
      "metadata": {
        "id": "xiVHhYo8_UPO",
        "colab_type": "code",
        "outputId": "56042626-625f-4abc-fd2d-270c2240243b",
        "colab": {
          "base_uri": "https://localhost:8080/",
          "height": 425
        }
      },
      "source": [
        "for d in dataset.take(1):\n",
        "  print(d)"
      ],
      "execution_count": 58,
      "outputs": [
        {
          "output_type": "stream",
          "text": [
            "(<tf.Tensor: shape=(7, 12), dtype=float64, numpy=\n",
            "array([[-1.43151241, -1.42750128, -1.42291712, -1.41718693, -1.40973768,\n",
            "        -1.40171541, -1.39140106, -1.37936766, -1.36561519, -1.34899763,\n",
            "        -1.33123404, -1.31461648],\n",
            "       [-0.88255992, -0.8642233 , -0.84474065, -0.82296591, -0.80119118,\n",
            "        -0.77998947, -0.75993379, -0.74102415, -0.72211452, -0.70263186,\n",
            "        -0.6831492 , -0.66309353],\n",
            "       [ 0.96084317,  0.98433697,  1.0032466 ,  1.0238753 ,  1.04736909,\n",
            "         1.07315496,  1.10295196,  1.13504104,  1.16999522,  1.20953355,\n",
            "         1.25308302,  1.29892456],\n",
            "       [-0.91522202, -0.8997505 , -0.88255992, -0.8642233 , -0.84474065,\n",
            "        -0.82296591, -0.80119118, -0.77998947, -0.75993379, -0.74102415,\n",
            "        -0.72211452, -0.70263186],\n",
            "       [-1.44984903, -1.44526488, -1.43953468, -1.43437751, -1.43151241,\n",
            "        -1.42750128, -1.42291712, -1.41718693, -1.40973768, -1.40171541,\n",
            "        -1.39140106, -1.37936766],\n",
            "       [-0.4722781 , -0.44534619, -0.41612221, -0.38517917, -0.35194405,\n",
            "        -0.31813591, -0.28203569, -0.24593548, -0.21155432, -0.17946524,\n",
            "        -0.14794918, -0.1158601 ],\n",
            "       [-0.17946524, -0.14794918, -0.1158601 , -0.08147894, -0.0448057 ,\n",
            "        -0.00354831,  0.04343927,  0.09615705,  0.15345898,  0.21305298,\n",
            "         0.27264699,  0.33453308]])>, <tf.Tensor: shape=(7,), dtype=float64, numpy=\n",
            "array([-1.29914495, -0.64189181,  1.34705818, -0.6831492 , -1.36561519,\n",
            "       -0.08147894,  0.40157633])>)\n"
          ],
          "name": "stdout"
        }
      ]
    },
    {
      "cell_type": "code",
      "metadata": {
        "id": "Emn12cmtX40l",
        "colab_type": "code",
        "colab": {}
      },
      "source": [
        "# forecast = modelForecast(best_model, windowed_test_data, window_size)\n",
        "forecast = best_model.predict(std_test_data)"
      ],
      "execution_count": 0,
      "outputs": []
    },
    {
      "cell_type": "code",
      "metadata": {
        "id": "oQ425Xs6fkIX",
        "colab_type": "code",
        "outputId": "1b250d6a-047d-41a7-9b33-991293a1a997",
        "colab": {
          "base_uri": "https://localhost:8080/",
          "height": 34
        }
      },
      "source": [
        "test_time = []\n",
        "for i in range(len(test_series)):\n",
        "  test_time.append(i)\n",
        "\n",
        "test_time = np.array(test_time)\n",
        "print(test_time)"
      ],
      "execution_count": 73,
      "outputs": [
        {
          "output_type": "stream",
          "text": [
            "[ 0  1  2  3  4  5  6  7  8  9 10 11]\n"
          ],
          "name": "stdout"
        }
      ]
    },
    {
      "cell_type": "code",
      "metadata": {
        "id": "vUcjMWJBf46c",
        "colab_type": "code",
        "outputId": "dbb98d68-41df-4570-d76a-28debaf55dfd",
        "colab": {
          "base_uri": "https://localhost:8080/",
          "height": 221
        }
      },
      "source": [
        "print(forecast)"
      ],
      "execution_count": 94,
      "outputs": [
        {
          "output_type": "stream",
          "text": [
            "[[2.4602337]\n",
            " [2.4793134]\n",
            " [2.4907198]\n",
            " [2.4978795]\n",
            " [2.5063047]\n",
            " [2.5182514]\n",
            " [2.531595 ]\n",
            " [2.54498  ]\n",
            " [2.5456102]\n",
            " [2.543085 ]\n",
            " [2.5424526]\n",
            " [2.5478113]]\n"
          ],
          "name": "stdout"
        }
      ]
    },
    {
      "cell_type": "code",
      "metadata": {
        "id": "3rucLJ4egBw7",
        "colab_type": "code",
        "outputId": "10a0c5ae-8171-4490-d06a-5305730bc9d2",
        "colab": {
          "base_uri": "https://localhost:8080/",
          "height": 388
        }
      },
      "source": [
        "plt.figure(figsize=(10,6))\n",
        "plot_series(test_time, std_test_data)\n",
        "plot_series(test_time, forecast)"
      ],
      "execution_count": 117,
      "outputs": [
        {
          "output_type": "display_data",
          "data": {
            "image/png": "[encoded data removed]",
            "text/plain": [
              "<Figure size 720x432 with 1 Axes>"
            ]
          },
          "metadata": {
            "tags": []
          }
        }
      ]
    },
    {
      "cell_type": "code",
      "metadata": {
        "id": "56QaQH1vhfTn",
        "colab_type": "code",
        "colab": {}
      },
      "source": [
        "reversed_test_data = (train_std * std_test_data) + train_mean\n",
        "reversed_forecast = (train_std * forecast) + train_mean"
      ],
      "execution_count": 0,
      "outputs": []
    },
    {
      "cell_type": "code",
      "metadata": {
        "id": "_lIFRJSAEBS7",
        "colab_type": "code",
        "colab": {
          "base_uri": "https://localhost:8080/",
          "height": 388
        },
        "outputId": "791009d7-3f23-4495-f905-37ac48182c76"
      },
      "source": [
        "plt.figure(figsize=(10,6))\n",
        "plot_series(test_time, reversed_test_data)\n",
        "plot_series(test_time, reversed_forecast)"
      ],
      "execution_count": 97,
      "outputs": [
        {
          "output_type": "display_data",
          "data": {
            "image/png": "[encoded data removed]",
            "text/plain": [
              "<Figure size 720x432 with 1 Axes>"
            ]
          },
          "metadata": {
            "tags": []
          }
        }
      ]
    },
    {
      "cell_type": "code",
      "metadata": {
        "id": "9Lqe6cN_EFlS",
        "colab_type": "code",
        "colab": {
          "base_uri": "https://localhost:8080/",
          "height": 221
        },
        "outputId": "f6c439f8-1fc8-40d2-c0e6-dd58fdd0f29b"
      },
      "source": [
        "for t in range(len(test_series.index)):\n",
        "  print('For {}: predicted = {}, actual = {}'.format(test_series.index[t], reversed_forecast[t][0], reversed_test_data[t]))"
      ],
      "execution_count": 103,
      "outputs": [
        {
          "output_type": "stream",
          "text": [
            "For 2018-01-01 00:00:00: predicted = 904464.875, actual = 792900.0\n",
            "For 2018-02-01 00:00:00: predicted = 907794.5625, actual = 798300.0\n",
            "For 2018-03-01 00:00:00: predicted = 909785.125, actual = 801600.0\n",
            "For 2018-04-01 00:00:00: predicted = 911034.625, actual = 803700.0\n",
            "For 2018-05-01 00:00:00: predicted = 912505.0, actual = 806200.0\n",
            "For 2018-06-01 00:00:00: predicted = 914589.8125, actual = 809800.0\n",
            "For 2018-07-01 00:00:00: predicted = 916918.5, actual = 813900.0\n",
            "For 2018-08-01 00:00:00: predicted = 919254.375, actual = 818100.0\n",
            "For 2018-09-01 00:00:00: predicted = 919364.3125, actual = 818300.0\n",
            "For 2018-10-01 00:00:00: predicted = 918923.625, actual = 817500.0\n",
            "For 2018-11-01 00:00:00: predicted = 918813.25, actual = 817300.0\n",
            "For 2018-12-01 00:00:00: predicted = 919748.4375, actual = 819000.0\n"
          ],
          "name": "stdout"
        }
      ]
    },
    {
      "cell_type": "code",
      "metadata": {
        "id": "CrxIaT54Fl1Q",
        "colab_type": "code",
        "colab": {}
      },
      "source": [
        "gap = np.subtract(forecast[0], std_test_data).mean()"
      ],
      "execution_count": 0,
      "outputs": []
    },
    {
      "cell_type": "code",
      "metadata": {
        "id": "ZNDKbJ2aHlgu",
        "colab_type": "code",
        "colab": {
          "base_uri": "https://localhost:8080/",
          "height": 34
        },
        "outputId": "d55cb11f-8fdd-4888-a960-b7ad677d5077"
      },
      "source": [
        "print(gap)"
      ],
      "execution_count": 121,
      "outputs": [
        {
          "output_type": "stream",
          "text": [
            "0.5429257954165382\n"
          ],
          "name": "stdout"
        }
      ]
    },
    {
      "cell_type": "code",
      "metadata": {
        "id": "ijDIqOS-Hmjs",
        "colab_type": "code",
        "colab": {
          "base_uri": "https://localhost:8080/",
          "height": 221
        },
        "outputId": "72730c4a-05e7-4df2-961c-16cebb27ca73"
      },
      "source": [
        "adj_forecast = forecast - gap\n",
        "print(adj_forecast)"
      ],
      "execution_count": 123,
      "outputs": [
        {
          "output_type": "stream",
          "text": [
            "[[1.9173079]\n",
            " [1.9363875]\n",
            " [1.947794 ]\n",
            " [1.9549537]\n",
            " [1.9633789]\n",
            " [1.9753256]\n",
            " [1.9886692]\n",
            " [2.0020542]\n",
            " [2.0026844]\n",
            " [2.0001593]\n",
            " [1.9995267]\n",
            " [2.0048854]]\n"
          ],
          "name": "stdout"
        }
      ]
    },
    {
      "cell_type": "code",
      "metadata": {
        "id": "KGR9Wy9UKNTw",
        "colab_type": "code",
        "colab": {}
      },
      "source": [
        "reversed_adj_forecast = (train_std * adj_forecast) + train_mean"
      ],
      "execution_count": 0,
      "outputs": []
    },
    {
      "cell_type": "code",
      "metadata": {
        "id": "1jcqoI-eKgAr",
        "colab_type": "code",
        "colab": {
          "base_uri": "https://localhost:8080/",
          "height": 388
        },
        "outputId": "4eeec3ff-e4a1-431f-f9fe-d9565e5e1898"
      },
      "source": [
        "plt.figure(figsize=(10,6))\n",
        "plot_series(test_time, reversed_test_data)\n",
        "plot_series(test_time, reversed_adj_forecast)"
      ],
      "execution_count": 125,
      "outputs": [
        {
          "output_type": "display_data",
          "data": {
            "image/png": "[encoded data removed]",
            "text/plain": [
              "<Figure size 720x432 with 1 Axes>"
            ]
          },
          "metadata": {
            "tags": []
          }
        }
      ]
    },
    {
      "cell_type": "code",
      "metadata": {
        "id": "fP7DBPZ1KliR",
        "colab_type": "code",
        "colab": {}
      },
      "source": [
        ""
      ],
      "execution_count": 0,
      "outputs": []
    }
  ]
}